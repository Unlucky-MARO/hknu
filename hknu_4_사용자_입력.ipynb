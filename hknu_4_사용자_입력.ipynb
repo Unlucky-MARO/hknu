{
  "cells": [
    {
      "cell_type": "markdown",
      "metadata": {
        "id": "view-in-github",
        "colab_type": "text"
      },
      "source": [
        "<a href=\"https://colab.research.google.com/github/Unlucky-MARO/hknu/blob/main/hknu_4_%EC%82%AC%EC%9A%A9%EC%9E%90_%EC%9E%85%EB%A0%A5.ipynb\" target=\"_parent\"><img src=\"https://colab.research.google.com/assets/colab-badge.svg\" alt=\"Open In Colab\"/></a>"
      ]
    },
    {
      "cell_type": "markdown",
      "id": "2d03d247-e2d3-4afe-ab5e-83dc989ed62d",
      "metadata": {
        "id": "2d03d247-e2d3-4afe-ab5e-83dc989ed62d"
      },
      "source": [
        "# (연습) 사용자 입력"
      ]
    },
    {
      "cell_type": "markdown",
      "id": "01c8fab8",
      "metadata": {
        "id": "01c8fab8"
      },
      "source": [
        "**주의 사항**\n",
        "\n",
        "* 기존에 작성된 코드셀/텍스트셀은 수정하지 않는다.\n",
        "* 필요한 경우 코드셀 또는 텍스트셀을 추가할 수 있다."
      ]
    },
    {
      "cell_type": "markdown",
      "id": "2d660583",
      "metadata": {
        "id": "2d660583"
      },
      "source": [
        "**문제 1**"
      ]
    },
    {
      "cell_type": "markdown",
      "id": "5947bed1",
      "metadata": {
        "id": "5947bed1"
      },
      "source": [
        "사용자로부터 입력받은 정수에 대한 3의 배수 여부를 판정하는 코드를 작성하라.\n",
        "단, 3의 배수인 경우와 아닌 경우 각각 다르게 아래 형식으로 출력되도록 한다.\n",
        "\n",
        "    24 은(는) 3의 배수다.\n",
        "    \n",
        "또는\n",
        "\n",
        "    25 은(는) 3으로 나누면 나머지가 1 이다."
      ]
    },
    {
      "cell_type": "code",
      "execution_count": null,
      "id": "8cda961c",
      "metadata": {
        "id": "8cda961c",
        "outputId": "e8410bfd-ae50-4a9c-9a7f-101145e7404c",
        "colab": {
          "base_uri": "https://localhost:8080/"
        }
      },
      "outputs": [
        {
          "output_type": "stream",
          "name": "stdout",
          "text": [
            "25\n",
            "25 은(는) 3으로 나누면 나머지가 1 이다.\n"
          ]
        }
      ],
      "source": [
        "x=int(input())\n",
        "if x%3==0:\n",
        "  print(x,\"은(는) 3의 배수다.\")\n",
        "else:\n",
        "  print(x,\"은(는) 3으로 나누면 나머지가\",x%3,\"이다.\")"
      ]
    },
    {
      "cell_type": "markdown",
      "id": "fdd24fd8",
      "metadata": {
        "id": "fdd24fd8"
      },
      "source": [
        "**문제 2**"
      ]
    },
    {
      "cell_type": "markdown",
      "id": "0ec47e07",
      "metadata": {
        "id": "0ec47e07"
      },
      "source": [
        "입력받은 두 부동소수점의 나눗셈을 아래 지정된 형식으로 출력하는 코드를 작성하라.\n",
        "입력된 값은 각각 변수 `a`와 `b`에 저장한다.\n",
        "예를 들어 3.3과 5.8이 입력되면 아래처럼 화면에 출력한다.\n",
        "또한 계산 결과는 소수점 이하 셋째 자리에서 반올림한다.\n",
        "\n",
        "    3.3 / 5.8 = 0.57"
      ]
    },
    {
      "cell_type": "code",
      "execution_count": null,
      "id": "b3d4ec13",
      "metadata": {
        "id": "b3d4ec13",
        "outputId": "5f593a66-6166-432a-e064-c27f2215555e",
        "colab": {
          "base_uri": "https://localhost:8080/"
        }
      },
      "outputs": [
        {
          "output_type": "stream",
          "name": "stdout",
          "text": [
            "3.3\n",
            "5.8\n",
            "3.3 / 5.8 = 0.57\n"
          ]
        }
      ],
      "source": [
        "x=float(input())\n",
        "y=float(input())\n",
        "print(x,\"/\",y,\"=\",round(x/y,2))\n"
      ]
    },
    {
      "cell_type": "markdown",
      "id": "f7e37b7b",
      "metadata": {
        "id": "f7e37b7b"
      },
      "source": [
        "**문제 3**"
      ]
    },
    {
      "cell_type": "markdown",
      "id": "045f2c80",
      "metadata": {
        "id": "045f2c80"
      },
      "source": [
        "두 개의 부동소수점`x`와 `y`를 입력받아 두 수의\n",
        "조화 평균을 아래 형식으로 출력하는 코드를 작성하라.\n",
        "\n",
        "    2.4 와 5.7 의 조화평균: 3.38\n",
        "\n",
        "단, `x`와 `y`의 조화평균은 다음과 같이 계산하며, 소수점 이하 셋째 자리에서 반올림한다.\n",
        "\n",
        "    2 / (1/x + 1/y)"
      ]
    },
    {
      "cell_type": "code",
      "execution_count": null,
      "id": "3045af10",
      "metadata": {
        "id": "3045af10",
        "outputId": "5e2d87d1-4ca6-404a-ab9b-0a60a7dfe3bc",
        "colab": {
          "base_uri": "https://localhost:8080/"
        }
      },
      "outputs": [
        {
          "output_type": "stream",
          "name": "stdout",
          "text": [
            "2.4\n",
            "5.7\n",
            "2.4 와 5.7 의 조화평균: 3.38\n"
          ]
        }
      ],
      "source": [
        "x=float(input())\n",
        "y=float(input())\n",
        "print(x,\"와\",y,\"의 조화평균:\",round(2/(1/x+1/y),2))"
      ]
    },
    {
      "cell_type": "markdown",
      "id": "e4805692",
      "metadata": {
        "id": "e4805692"
      },
      "source": [
        "**문제 4**"
      ]
    },
    {
      "cell_type": "markdown",
      "id": "f4a72767",
      "metadata": {
        "id": "f4a72767"
      },
      "source": [
        "대기실에 `N` 개의 의자가 일렬로 놓여 있다.\n",
        "`N`은 사용자 입력을 통해 지정된 양의 정수다.\n",
        "\n",
        "어느 두 사람도 이웃하여 앉지 않을 때, 앉을 수 있는 최대 인원이 앉는 방식과\n",
        "최소 인원이 앉는 방식을 문자열로 출력한다.\n",
        "단, 자리를 채운 후에는 더 이상 어느 누구도 자리에 앉을 수 없어야 한다.\n",
        "\n",
        "예를 들어 의자가 8개인 경우 아래 방식으로 앉는 것은 허용되지 않는다.\n",
        "아래 표에서 `O`은 채워진 자리를, `X`는 빈자리를 가리킨다.\n",
        "\n",
        "| 불가능 방식 | 이유 |\n",
        "| :---: | :--- |\n",
        "| `XXOXOXOX` | 왼쪽 끝에 한 명 더 앉을 수 있음 |\n",
        "| `XOXXOXXX` | 오른쪽 끝에 한 명 더 앉을 수 있음|\n",
        "\n",
        "의자가 8 개일 때 의자에 앉을 수 있는 최소 인원과 최대 인원은 다음과 같다.\n",
        "\n",
        "| 인원 | 앉는 방식 |\n",
        "| :---: | :---: |\n",
        "| 최소 3명 | `XOXXOXXO` |\n",
        "| 최대 4명 | `OXOXOXOX` |\n",
        "\n",
        "힌트: 2배수와 3배수 여부에 따른 `if ... else ...` 조건문 활용"
      ]
    },
    {
      "cell_type": "code",
      "source": [
        "N=int(input())\n",
        "\n",
        "N_min=N//3+(1 if N%3 !=0 else 0)\n",
        "\n",
        "if N%2==0:\n",
        "  N_max=N//2\n",
        "  print(\"앉을 수 있는 최대 인원:\",N_max)\n",
        "  print(\"앉을 수 있는 최소 인원:\",N_min)\n",
        "else:\n",
        "  N_max=N//2+1\n",
        "  print(\"앉을 수 있는 최대 인원:\",N_max)\n",
        "  print(\"앉을 수 있는 최소 인원:\",N_min)"
      ],
      "metadata": {
        "id": "KQ4ad7_D7qQS",
        "colab": {
          "base_uri": "https://localhost:8080/"
        },
        "outputId": "04896672-242e-47f7-c383-fdaad43c2868"
      },
      "id": "KQ4ad7_D7qQS",
      "execution_count": null,
      "outputs": [
        {
          "output_type": "stream",
          "name": "stdout",
          "text": [
            "7\n",
            "앉을 수 있는 최대 인원: 4\n",
            "앉을 수 있는 최소 인원: 3\n"
          ]
        }
      ]
    },
    {
      "cell_type": "code",
      "source": [
        "N = int(input(\"정수를 입력하세요: \"))\n",
        "\n",
        "# 최대 인원\n",
        "if (N%2 == 0) :\n",
        "    max_num = N//2\n",
        "    print(\"최대 인원\", max_num, \"명:\", \"OX\" * max_num)\n",
        "else :\n",
        "    max_num = (N//2) + 1\n",
        "    print(\"최대 인원\", max_num, \"명:\", \"OX\" * (max_num-1)+\"O\")\n",
        "\n",
        "# 최소 인원\n",
        "if (N%3 == 0) :\n",
        "    min_num = N//3\n",
        "    print(\"최소 인원\", min_num, \"명:\", \"XOX\" * (min_num))\n",
        "else:\n",
        "    if (N%3 == 1):\n",
        "        min_num = (N//3)\n",
        "        print(\"최소 인원\", min_num, \"명:\", \"XOX\" * min_num + \"X\")\n",
        "    if (N%3 == 2):\n",
        "        min_num = (N//3) + 1\n",
        "        print(\"최소 인원\", min_num, \"명:\", \"XOX\" * (min_num-1) + \"XO\")"
      ],
      "metadata": {
        "colab": {
          "base_uri": "https://localhost:8080/"
        },
        "id": "BIXHWNlC281z",
        "outputId": "e188ce3e-e582-42b1-d96d-f5225029f886"
      },
      "id": "BIXHWNlC281z",
      "execution_count": null,
      "outputs": [
        {
          "output_type": "stream",
          "name": "stdout",
          "text": [
            "정수를 입력하세요: 7\n",
            "최대 인원 4 명: OXOXOXO\n",
            "최소 인원 2 명: XOXXOXX\n"
          ]
        }
      ]
    }
  ],
  "metadata": {
    "kernelspec": {
      "display_name": "Python 3 (ipykernel)",
      "language": "python",
      "name": "python3"
    },
    "language_info": {
      "codemirror_mode": {
        "name": "ipython",
        "version": 3
      },
      "file_extension": ".py",
      "mimetype": "text/x-python",
      "name": "python",
      "nbconvert_exporter": "python",
      "pygments_lexer": "ipython3",
      "version": "3.12.7"
    },
    "toc-autonumbering": true,
    "toc-showcode": false,
    "toc-showmarkdowntxt": false,
    "colab": {
      "provenance": [],
      "include_colab_link": true
    }
  },
  "nbformat": 4,
  "nbformat_minor": 5
}