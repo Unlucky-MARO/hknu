{
  "cells": [
    {
      "cell_type": "markdown",
      "metadata": {
        "id": "view-in-github",
        "colab_type": "text"
      },
      "source": [
        "<a href=\"https://colab.research.google.com/github/Unlucky-MARO/hknu/blob/main/hknu_7_%EB%AC%B8%EC%9E%90%EC%97%B4_3%EB%B6%80.ipynb\" target=\"_parent\"><img src=\"https://colab.research.google.com/assets/colab-badge.svg\" alt=\"Open In Colab\"/></a>"
      ]
    },
    {
      "cell_type": "markdown",
      "metadata": {
        "id": "WiLNTOjav5Lt"
      },
      "source": [
        "# (연습) 문자열  3부"
      ]
    },
    {
      "cell_type": "markdown",
      "metadata": {
        "id": "MgBCG_zE0A9f"
      },
      "source": [
        "**주의 사항**\n",
        "\n",
        "* 기존에 작성된 코드 셀과 텍스트 셀은 수정하지 않는다.\n",
        "* 필요한 경우 코드 셀 또는 텍스트 셀을 추가해서 사용한다."
      ]
    },
    {
      "cell_type": "markdown",
      "metadata": {
        "id": "esL7qu0Bv5L0"
      },
      "source": [
        "**문제 1**"
      ]
    },
    {
      "cell_type": "markdown",
      "metadata": {
        "id": "gv_aY1Jtv5L0"
      },
      "source": [
        "다음과 같이 영어 알파벳으로 구성된 문자열이 주어졌다."
      ]
    },
    {
      "cell_type": "code",
      "execution_count": null,
      "metadata": {
        "id": "s3TPKr1Zv5L1"
      },
      "outputs": [],
      "source": [
        "text = \"python data analysis\""
      ]
    },
    {
      "cell_type": "markdown",
      "metadata": {
        "id": "TB4amSJvv5L3"
      },
      "source": [
        "(1) 문자열에 포함된 모음의 개수를 확인하는 코드를 작성하려 한다.\n",
        "단, 모음 알파벳은 아래 문자열에 포함되어 있다."
      ]
    },
    {
      "cell_type": "code",
      "execution_count": null,
      "metadata": {
        "id": "13-eGQrCv5L3"
      },
      "outputs": [],
      "source": [
        "vowels='AEIOUaeiou'"
      ]
    },
    {
      "cell_type": "markdown",
      "metadata": {
        "id": "1KdZ5JQ6v5L4"
      },
      "source": [
        "예를 들어 다음과 같이 `for` 반복문을 이용할 수 있다."
      ]
    },
    {
      "cell_type": "code",
      "execution_count": null,
      "metadata": {
        "id": "AyZq5Ua4v5L4",
        "outputId": "a115d491-46c8-4629-baba-3363bfba5f53",
        "colab": {
          "base_uri": "https://localhost:8080/"
        }
      },
      "outputs": [
        {
          "output_type": "stream",
          "name": "stdout",
          "text": [
            "모음 개수: 6\n"
          ]
        }
      ],
      "source": [
        "count_vowels = 0\n",
        "for char in text:\n",
        "    if char in vowels:\n",
        "        count_vowels += 1\n",
        "\n",
        "print(\"모음 개수:\", count_vowels)"
      ]
    },
    {
      "cell_type": "markdown",
      "metadata": {
        "id": "vJreI-Gjv5L5"
      },
      "source": [
        "`continue` 명령문을 사용하여 위 코드를 수정하라.\n",
        "단 동일한 결과가 나와야 한다."
      ]
    },
    {
      "cell_type": "code",
      "execution_count": null,
      "metadata": {
        "id": "VWjdCzHGv5L6",
        "outputId": "383f1232-9a2b-40a2-e7ab-24b3eab477a9",
        "colab": {
          "base_uri": "https://localhost:8080/"
        }
      },
      "outputs": [
        {
          "output_type": "stream",
          "name": "stdout",
          "text": [
            "모음 개수: 6\n"
          ]
        }
      ],
      "source": [
        "count_vowels = 0\n",
        "for i in text:\n",
        "  if i not in vowels:\n",
        "    continue\n",
        "  count_vowels+=1\n",
        "print(\"모음 개수:\", count_vowels)"
      ]
    },
    {
      "cell_type": "markdown",
      "metadata": {
        "id": "svcYhTdKv5L6"
      },
      "source": [
        "(2) 문자열에 포함된 자음의 개수를 확인하는 코드를 작성하려 한다."
      ]
    },
    {
      "cell_type": "markdown",
      "metadata": {
        "id": "7qFPkv5Nv5L6"
      },
      "source": [
        "`text` 문자열은 공백을 포함하는데, 공백은 알파벳이 아니다.\n",
        "따라서 모음과는 달리 자음만 추출하려면 공백도 제외시켜야 한다.\n",
        "이를 위해 문자열이 영어 26개의 알파벳으로만 구성되었는지 여부를 판정하는 `isalpha()`\n",
        "문자열 메서드를 이용한다."
      ]
    },
    {
      "cell_type": "code",
      "execution_count": null,
      "metadata": {
        "id": "f2lZyFOfv5L7",
        "outputId": "e6179f1c-483d-4979-9ca4-a3461c251644",
        "colab": {
          "base_uri": "https://localhost:8080/"
        }
      },
      "outputs": [
        {
          "output_type": "execute_result",
          "data": {
            "text/plain": [
              "True"
            ]
          },
          "metadata": {},
          "execution_count": 26
        }
      ],
      "source": [
        "'a'.isalpha()"
      ]
    },
    {
      "cell_type": "code",
      "execution_count": null,
      "metadata": {
        "id": "m6W1DvBvv5L7",
        "outputId": "e0ab3fe8-3765-4e46-f12d-67a8349f0390",
        "colab": {
          "base_uri": "https://localhost:8080/"
        }
      },
      "outputs": [
        {
          "output_type": "execute_result",
          "data": {
            "text/plain": [
              "True"
            ]
          },
          "metadata": {},
          "execution_count": 27
        }
      ],
      "source": [
        "'ab'.isalpha()"
      ]
    },
    {
      "cell_type": "code",
      "execution_count": null,
      "metadata": {
        "id": "pYu0zNC9v5L7",
        "outputId": "83f0be77-6786-4f9a-9cf0-2f79e8a52348",
        "colab": {
          "base_uri": "https://localhost:8080/"
        }
      },
      "outputs": [
        {
          "output_type": "execute_result",
          "data": {
            "text/plain": [
              "False"
            ]
          },
          "metadata": {},
          "execution_count": 28
        }
      ],
      "source": [
        "'ab3'.isalpha()"
      ]
    },
    {
      "cell_type": "markdown",
      "metadata": {
        "id": "IB0WJayKv5L8"
      },
      "source": [
        "아래 코드는 주어진 영어 문장 `text`에 대해 모음이 아닌 알파벳이 사용된 횟수를\n",
        "`for` 반복문을 이용하여 계산한다.\n",
        "`isalpha()` 메서드를 이용하여 모음이 아니면서 영어 알파벳인 경우일 때만 `count_consonant` 값이 업데이트됨에 주의한다."
      ]
    },
    {
      "cell_type": "code",
      "execution_count": null,
      "metadata": {
        "id": "4bjAbnV_v5L8",
        "outputId": "7949ecf4-d3b5-418d-bbb9-739d6c4cfbc7",
        "colab": {
          "base_uri": "https://localhost:8080/"
        }
      },
      "outputs": [
        {
          "output_type": "stream",
          "name": "stdout",
          "text": [
            "자음 개수: 12\n"
          ]
        }
      ],
      "source": [
        "count_consonant = 0\n",
        "for char in text:\n",
        "    if (char not in vowels) and char.isalpha():\n",
        "        count_consonant += 1\n",
        "\n",
        "print(\"자음 개수:\", count_consonant)"
      ]
    },
    {
      "cell_type": "markdown",
      "metadata": {
        "id": "HC3VO3YZv5L8"
      },
      "source": [
        "`continue` 명령문을 사용하도록 위 코드를 수정하라."
      ]
    },
    {
      "cell_type": "code",
      "execution_count": null,
      "metadata": {
        "id": "tyktvoGJv5L8",
        "outputId": "4f4fd810-a092-4e97-dc72-21996b4f7c43",
        "colab": {
          "base_uri": "https://localhost:8080/"
        }
      },
      "outputs": [
        {
          "output_type": "stream",
          "name": "stdout",
          "text": [
            "자음 개수 12\n"
          ]
        }
      ],
      "source": [
        "count_consonant=0\n",
        "for i in text:\n",
        "  if (i in vowels) or (not i.isalpha()):\n",
        "    continue\n",
        "  count_consonant+=1\n",
        "\n",
        "print(\"자음 개수\", count_consonant)"
      ]
    },
    {
      "cell_type": "markdown",
      "metadata": {
        "id": "AXVPOjSlv5L9"
      },
      "source": [
        "**문제 2**"
      ]
    },
    {
      "cell_type": "markdown",
      "metadata": {
        "id": "ZiYEPWO1v5L9"
      },
      "source": [
        "두 개의 문자열이 다음과 같이 주어졌다."
      ]
    },
    {
      "cell_type": "code",
      "execution_count": null,
      "metadata": {
        "id": "iOPYX14hv5L9"
      },
      "outputs": [],
      "source": [
        "string = \"PythonForPythonForPythonForPythonForPython\"\n",
        "substring = \"ForPythonFor\""
      ]
    },
    {
      "cell_type": "markdown",
      "metadata": {
        "id": "8xTA2sdLv5L9"
      },
      "source": [
        "이때 `substring`이 `string`에 사용된 횟수는 두 번으로 확인된다."
      ]
    },
    {
      "cell_type": "code",
      "execution_count": null,
      "metadata": {
        "id": "ztqqIbpwv5L9",
        "outputId": "8c621924-1e3d-4f40-8d64-589bb8161c8d",
        "colab": {
          "base_uri": "https://localhost:8080/"
        }
      },
      "outputs": [
        {
          "output_type": "execute_result",
          "data": {
            "text/plain": [
              "2"
            ]
          },
          "metadata": {},
          "execution_count": 54
        }
      ],
      "source": [
        "string.count(substring)"
      ]
    },
    {
      "cell_type": "markdown",
      "metadata": {
        "id": "N8GupOpSv5L-"
      },
      "source": [
        "이유는 `count()` 메서드는 지정된 문자열이 겹쳐지지 않는 경우만 확인하기 때문이다."
      ]
    },
    {
      "cell_type": "markdown",
      "metadata": {
        "id": "My07uy0Av5L-"
      },
      "source": [
        "(1) `substring`이 겹쳐지는 것도 허용하면서 사용된 횟수를 확인하면 3번이다.\n",
        "이 사실을 확인하는 코드를 `for` 반복문을 이용하여 작성하라.\n",
        "\n",
        "힌트: 문자열 슬라이싱 활용"
      ]
    },
    {
      "cell_type": "code",
      "source": [
        "count=0\n",
        "for i in range(len(string)-len(substring)+1):\n",
        "  if string[i:i+len(substring)]==substring:\n",
        "    count+=1\n",
        "print(count)"
      ],
      "metadata": {
        "id": "TFslWYhE5qO-",
        "outputId": "92261ec6-bbe6-4162-89d4-77df5cc9fcde",
        "colab": {
          "base_uri": "https://localhost:8080/"
        }
      },
      "execution_count": null,
      "outputs": [
        {
          "output_type": "stream",
          "name": "stdout",
          "text": [
            "3\n"
          ]
        }
      ]
    },
    {
      "cell_type": "markdown",
      "metadata": {
        "id": "nzFCGA1nv5L-"
      },
      "source": [
        "(2) 위 코드를 아래 조건이 만족되도록 수정하라.\n",
        "\n",
        "- `count` 변수가 2가 될 때까지만 `for` 반복문이 실행되어야 한다.\n",
        "- 다음과 같이 출력되어야 함.\n",
        "\n",
        "        ForPythonFor이 중첩되어 사용됫 횟수: 최소 2회\n",
        "\n",
        "힌트: `break` 명령문 활용"
      ]
    },
    {
      "cell_type": "code",
      "execution_count": null,
      "metadata": {
        "id": "b8833aNwv5L_",
        "outputId": "12d0c116-7d40-47d0-ec77-8dc55474e2f4",
        "colab": {
          "base_uri": "https://localhost:8080/"
        }
      },
      "outputs": [
        {
          "output_type": "stream",
          "name": "stdout",
          "text": [
            "2\n"
          ]
        }
      ],
      "source": [
        "count=0\n",
        "for i in range(len(string)-len(substring)+1):\n",
        "  if string[i:i+len(substring)]==substring:\n",
        "    count+=1\n",
        "    if count==2:\n",
        "      break\n",
        "print(count)"
      ]
    },
    {
      "cell_type": "markdown",
      "metadata": {
        "id": "4UMmHsvJv5L_"
      },
      "source": [
        "**문제 3**"
      ]
    },
    {
      "cell_type": "markdown",
      "metadata": {
        "id": "2DGAobRiv5L_"
      },
      "source": [
        "`for` 반복문을 이용하여 구구단을 출력하고자 한다.\n",
        "반복문을 위해 아래 문자열을 이용한다."
      ]
    },
    {
      "cell_type": "code",
      "execution_count": null,
      "metadata": {
        "id": "td0i_enAv5L_"
      },
      "outputs": [],
      "source": [
        "one2nine = '123456789'"
      ]
    },
    {
      "cell_type": "markdown",
      "metadata": {
        "id": "1ovoBL2mv5L_"
      },
      "source": [
        "(1) 사용자로부터 1부터 9사이의 정수를 입력 받은 후 입력된 정수의 배수에 해당하는 구구단만 화면에 출력하는\n",
        "코드를 작성하라.\n",
        "예를 들어, 사용자가 3을 입력하면 3의 배수인 3, 6, 9에 대한 구구단만 아래와 같이 출력해야 한다.\n",
        "또한 `for` 반복문과 함께 `continue` 명령문을 구구단 출력에 이용해야 하며,\n",
        "곱셈 결과는 오른쪽으로 정렬되어야 한다."
      ]
    },
    {
      "cell_type": "markdown",
      "metadata": {
        "id": "8ldK8Y-xv5MA"
      },
      "source": [
        "- 3을 입력하는 경우"
      ]
    },
    {
      "cell_type": "markdown",
      "metadata": {
        "id": "3o3NSQ9Qv5MA"
      },
      "source": [
        "```\n",
        "단수를 입력하세요: 3\n",
        "\n",
        "3의 배수 구구단 출력\n",
        "\n",
        "3단\n",
        "\n",
        "3 * 1 =  3\n",
        "3 * 2 =  6\n",
        "3 * 4 = 12\n",
        "3 * 5 = 15\n",
        "3 * 7 = 21\n",
        "3 * 8 = 24\n",
        "\n",
        "6단\n",
        "\n",
        "6 * 1 =  6\n",
        "6 * 2 = 12\n",
        "6 * 4 = 24\n",
        "6 * 5 = 30\n",
        "6 * 7 = 42\n",
        "6 * 8 = 48\n",
        "\n",
        "9단\n",
        "\n",
        "9 * 1 =  9\n",
        "9 * 2 = 18\n",
        "9 * 4 = 36\n",
        "9 * 5 = 45\n",
        "9 * 7 = 63\n",
        "9 * 8 = 72\n",
        "```"
      ]
    },
    {
      "cell_type": "markdown",
      "metadata": {
        "id": "miCl8LsNv5MA"
      },
      "source": [
        "- 4를 입력하는 경우"
      ]
    },
    {
      "cell_type": "markdown",
      "metadata": {
        "id": "JTDTOY3xv5MA"
      },
      "source": [
        "```\n",
        "단수를 입력하세요: 4\n",
        "\n",
        "4의 배수 구구단 출력\n",
        "\n",
        "4단\n",
        "\n",
        "4 * 1 =  4\n",
        "4 * 2 =  8\n",
        "4 * 3 = 12\n",
        "4 * 5 = 20\n",
        "4 * 6 = 24\n",
        "4 * 7 = 28\n",
        "4 * 9 = 36\n",
        "\n",
        "8단\n",
        "\n",
        "8 * 1 =  8\n",
        "8 * 2 = 16\n",
        "8 * 3 = 24\n",
        "8 * 5 = 40\n",
        "8 * 6 = 48\n",
        "8 * 7 = 56\n",
        "8 * 9 = 72\n",
        "```"
      ]
    },
    {
      "cell_type": "markdown",
      "metadata": {
        "id": "CIxqYIJ8v5MA"
      },
      "source": [
        "힌트: `for` 반복문을 중첩해서 활용"
      ]
    },
    {
      "cell_type": "code",
      "execution_count": null,
      "metadata": {
        "id": "HxlLZ_hKv5MG",
        "outputId": "104d8af6-071c-419a-f386-54297a3e1a5d",
        "colab": {
          "base_uri": "https://localhost:8080/"
        }
      },
      "outputs": [
        {
          "output_type": "stream",
          "name": "stdout",
          "text": [
            "단수를 입력하세요:2\n",
            "\n",
            "2 의 배수 구구단 출력\n",
            "\n",
            "2 단\n",
            "\n",
            "2 * 1 = 2\n",
            "2 * 2 = 4\n",
            "2 * 3 = 6\n",
            "2 * 4 = 8\n",
            "2 * 5 = 10\n",
            "2 * 6 = 12\n",
            "2 * 7 = 14\n",
            "2 * 8 = 16\n",
            "2 * 9 = 18\n",
            "\n",
            "4 의 배수 구구단 출력\n",
            "\n",
            "4 단\n",
            "\n",
            "4 * 1 = 4\n",
            "4 * 2 = 8\n",
            "4 * 3 = 12\n",
            "4 * 4 = 16\n",
            "4 * 5 = 20\n",
            "4 * 6 = 24\n",
            "4 * 7 = 28\n",
            "4 * 8 = 32\n",
            "4 * 9 = 36\n",
            "\n",
            "6 의 배수 구구단 출력\n",
            "\n",
            "6 단\n",
            "\n",
            "6 * 1 = 6\n",
            "6 * 2 = 12\n",
            "6 * 3 = 18\n",
            "6 * 4 = 24\n",
            "6 * 5 = 30\n",
            "6 * 6 = 36\n",
            "6 * 7 = 42\n",
            "6 * 8 = 48\n",
            "6 * 9 = 54\n",
            "\n",
            "8 의 배수 구구단 출력\n",
            "\n",
            "8 단\n",
            "\n",
            "8 * 1 = 8\n",
            "8 * 2 = 16\n",
            "8 * 3 = 24\n",
            "8 * 4 = 32\n",
            "8 * 5 = 40\n",
            "8 * 6 = 48\n",
            "8 * 7 = 56\n",
            "8 * 8 = 64\n",
            "8 * 9 = 72\n",
            "\n",
            "12 의 배수 구구단 출력\n",
            "\n",
            "12 단\n",
            "\n",
            "12 * 1 = 12\n",
            "12 * 2 = 24\n",
            "12 * 3 = 36\n",
            "12 * 4 = 48\n",
            "12 * 5 = 60\n",
            "12 * 6 = 72\n",
            "12 * 7 = 84\n",
            "12 * 8 = 96\n",
            "12 * 9 = 108\n",
            "\n"
          ]
        }
      ],
      "source": [
        "x=int(input(\"단수를 입력하세요:\",))\n",
        "print()\n",
        "one2nine = '123456789'\n",
        "for j in range(1,10):\n",
        "  y=x*j\n",
        "  if str(y) in one2nine:\n",
        "    print(y,\"의 배수 구구단 출력\\n\")\n",
        "    print(y,\"단\\n\")\n",
        "    for i in range(1,10):\n",
        "      print(y,'*',i,'=',y*i,)\n",
        "    print()"
      ]
    },
    {
      "cell_type": "markdown",
      "metadata": {
        "id": "1Pb3dgTTv5MG"
      },
      "source": [
        "(2) 사용자로부터 1부터 9사이의 정수를 입력 받은 후 입력된 정수의 배수에 해당하는 구구단만\n",
        "지정된 형식으로 화면에 출력하는 코드를 작성하라.\n",
        "예를 들어, 사용자가 3을 입력하면 3의 배수인 3, 6, 9에 대한 구구단만 아래와 같이 출력해야 한다.\n",
        "또한 `for` 반복문과 함께 `continue`, `break` 명령문을 구구단 출력에 이용해야 하며,\n",
        "곱셈 결과는 오른쪽으로 정렬되어야 한다."
      ]
    },
    {
      "cell_type": "markdown",
      "metadata": {
        "id": "VRop8MMXv5MG"
      },
      "source": [
        "- 3을 입력하는 경우"
      ]
    },
    {
      "cell_type": "markdown",
      "metadata": {
        "id": "dlhwyWZXv5MG"
      },
      "source": [
        "```\n",
        "단수를 입력하세요: 3\n",
        "\n",
        "3의 배수 구구단 출력\n",
        "\n",
        "1단\n",
        "\n",
        "1 * 3 =  3\n",
        "1 * 6 =  6\n",
        "1 * 9 =  9\n",
        "\n",
        "2단\n",
        "\n",
        "2 * 3 =  6\n",
        "2 * 6 = 12\n",
        "2 * 9 = 18\n",
        "```"
      ]
    },
    {
      "cell_type": "markdown",
      "metadata": {
        "id": "k1S8Domqv5MH"
      },
      "source": [
        "- 4를 입력하는 경우"
      ]
    },
    {
      "cell_type": "markdown",
      "metadata": {
        "id": "smqAiHmQv5MH"
      },
      "source": [
        "```\n",
        "단수를 입력하세요: 4\n",
        "\n",
        "4의 배수 구구단 출력\n",
        "\n",
        "1단\n",
        "\n",
        "1 * 4 =  4\n",
        "1 * 8 =  8\n",
        "\n",
        "2단\n",
        "\n",
        "2 * 4 =  8\n",
        "2 * 8 = 16\n",
        "\n",
        "3단\n",
        "\n",
        "3 * 4 = 12\n",
        "3 * 8 = 24\n",
        "```"
      ]
    },
    {
      "cell_type": "markdown",
      "metadata": {
        "id": "IV2mVX-Sv5MH"
      },
      "source": [
        "힌트: `for` 반복문을 중첩해서 활용"
      ]
    },
    {
      "cell_type": "code",
      "execution_count": null,
      "metadata": {
        "id": "YBpjL7ykv5MH"
      },
      "outputs": [],
      "source": [
        "x=int(input())\n",
        "one2nine = '123456789'\n",
        "for j in range(1,10):\n",
        "  x*=j\n",
        "  if x>=10:\n",
        "    break\n",
        "  if str(x) in one2nine:\n",
        "    print(x,\"단\")\n",
        "    for i in range(1,10):\n",
        "      print(int(x),'*',i,'=',x*i)"
      ]
    }
  ],
  "metadata": {
    "colab": {
      "provenance": [],
      "include_colab_link": true
    },
    "kernelspec": {
      "display_name": "Python 3 (ipykernel)",
      "language": "python",
      "name": "python3"
    },
    "language_info": {
      "codemirror_mode": {
        "name": "ipython",
        "version": 3
      },
      "file_extension": ".py",
      "mimetype": "text/x-python",
      "name": "python",
      "nbconvert_exporter": "python",
      "pygments_lexer": "ipython3",
      "version": "3.12.2"
    }
  },
  "nbformat": 4,
  "nbformat_minor": 0
}