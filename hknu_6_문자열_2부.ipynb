{
  "cells": [
    {
      "cell_type": "markdown",
      "metadata": {
        "id": "view-in-github",
        "colab_type": "text"
      },
      "source": [
        "<a href=\"https://colab.research.google.com/github/Unlucky-MARO/hknu/blob/main/hknu_6_%EB%AC%B8%EC%9E%90%EC%97%B4_2%EB%B6%80.ipynb\" target=\"_parent\"><img src=\"https://colab.research.google.com/assets/colab-badge.svg\" alt=\"Open In Colab\"/></a>"
      ]
    },
    {
      "cell_type": "markdown",
      "metadata": {
        "id": "l8Et29Oa_j3E"
      },
      "source": [
        "# (연습) 문자열  2부"
      ]
    },
    {
      "cell_type": "markdown",
      "metadata": {
        "id": "MgBCG_zE0A9f"
      },
      "source": [
        "**주의 사항**\n",
        "\n",
        "* 기존에 작성된 코드 셀과 텍스트 셀은 수정하지 않는다.\n",
        "* 필요한 경우 코드 셀 또는 텍스트 셀을 추가해서 사용한다."
      ]
    },
    {
      "cell_type": "markdown",
      "metadata": {
        "id": "eYlt2dez_j3O"
      },
      "source": [
        "**문제 1**"
      ]
    },
    {
      "cell_type": "markdown",
      "metadata": {
        "id": "VrKAC1Wk_j3P"
      },
      "source": [
        "`fruits` 변수가 아래와 같이 과일 이름으로 구성된 문자열을 가리킨다."
      ]
    },
    {
      "cell_type": "code",
      "execution_count": null,
      "metadata": {
        "id": "QgU2zO-K_j3P"
      },
      "outputs": [],
      "source": [
        "fruits = \"banana apple orange pineapple mango strawberry cherry\""
      ]
    },
    {
      "cell_type": "markdown",
      "metadata": {
        "id": "cOscsznO_j3S"
      },
      "source": [
        "`fruits` 변수를 이용하여 아래 문자열을 생성하는 코드를 작성하라.\n",
        "\n",
        "```\n",
        "Banana, Apple, Orange, Pineapple, Mango, Strawberry, Cherry\n",
        "```\n",
        "힌트: 문자열 `split()`, `title()`, `join()` 메서드 활용"
      ]
    },
    {
      "cell_type": "code",
      "execution_count": null,
      "metadata": {
        "id": "EdzpJrgF_j3T",
        "outputId": "f48150a9-c9ae-45cd-8c78-915dc1691e5e",
        "colab": {
          "base_uri": "https://localhost:8080/"
        }
      },
      "outputs": [
        {
          "output_type": "stream",
          "name": "stdout",
          "text": [
            "Banana, Apple, Orange, Pineapple, Mango, Strawberry, Cherry\n"
          ]
        }
      ],
      "source": [
        "print(\", \".join(fruits.title().split()))"
      ]
    },
    {
      "cell_type": "markdown",
      "metadata": {
        "id": "fvQEzD1r_j3U"
      },
      "source": [
        "**문제 2**"
      ]
    },
    {
      "cell_type": "markdown",
      "metadata": {
        "id": "abTriLe1_j3V"
      },
      "source": [
        "아래 `current_time` 변수는 시각을 서양식으로 표현된 문자열을 가리킨다."
      ]
    },
    {
      "cell_type": "code",
      "execution_count": null,
      "metadata": {
        "id": "b3BC5X0S_j3W"
      },
      "outputs": [],
      "source": [
        "current_time = 'Fri Mar 21, 2025'"
      ]
    },
    {
      "cell_type": "markdown",
      "metadata": {
        "id": "YSOsfabE_j3X"
      },
      "source": [
        "`current_time` 변수가 가리키는 문자열을 한국식, 즉 다음과 같이 출력하는 코드를 작성한다.\n",
        "\n",
        "```python\n",
        "날짜: 2025년 3월 21일 금요일\n",
        "```\n",
        "\n",
        "단, 아래 코드에서 선언된 세 개의 변수와 `split()` 메서드, f-문자열을 반드시 활용한다."
      ]
    },
    {
      "cell_type": "code",
      "execution_count": null,
      "metadata": {
        "id": "sjZBsm0i_j3X"
      },
      "outputs": [],
      "source": [
        "weekdays_en = ['Sun', 'Mon', 'Tue', 'Wed', 'Thu', 'Fri', 'Sat']\n",
        "weekdays_kr = ['일', '월', '화', '수', '목', '금', '토']\n",
        "months_en = ['Jan', 'Feb', 'Mar', 'Apr', 'May', 'Jun', 'Jul', 'Aug', 'Sep', 'Oct', 'Nov', 'Dec']"
      ]
    },
    {
      "cell_type": "code",
      "execution_count": null,
      "metadata": {
        "id": "9Eeurs95_j3Y",
        "outputId": "708899be-7214-4405-abc0-489013df7b95",
        "colab": {
          "base_uri": "https://localhost:8080/"
        }
      },
      "outputs": [
        {
          "output_type": "stream",
          "name": "stdout",
          "text": [
            "2025년 3월 21일 금요일\n"
          ]
        }
      ],
      "source": [
        "current_times=current_time.split()\n",
        "weekdays_kr1=weekdays_kr[weekdays_en.index(current_times[0])]\n",
        "months_kr=months_en.index((current_times[1]))+1\n",
        "\n",
        "print(f\"2025년 {months_kr}월 21일 {weekdays_kr1}요일\")"
      ]
    },
    {
      "cell_type": "markdown",
      "metadata": {
        "id": "1JSznueW_j3Y"
      },
      "source": [
        "**문제 3**"
      ]
    },
    {
      "cell_type": "markdown",
      "metadata": {
        "id": "b9d29417"
      },
      "source": [
        "변수와 함수의 이름을 지정할 때 **낙타**<font size = \"2\">camel</font> 표기법 또는\n",
        "**팟홀**<font size=\"2\">pothole</font> 표기법을 사용한다.\n",
        "\n",
        "* 낙타 표기법: 소문자로 시작하고, 이어지는 단어의 시작은 대문자로 작성하는 표기법.\n",
        "* 팟홀 표기법: 모두 소문자를 사용하고, 단어 사이에 밑줄기호(`_`)를 사용하는 표기법."
      ]
    },
    {
      "cell_type": "markdown",
      "metadata": {
        "id": "RA3zA8I4_j3Y"
      },
      "source": [
        "활용 예제는 다음과 같다.\n",
        "\n",
        "- 낙타 표기법 예제: `userName`, `printMessage`, `countA` 등.\n",
        "- 팟홀 표기법 예제: `user_name`, `print_message`, `count_a` 등.   "
      ]
    },
    {
      "cell_type": "markdown",
      "metadata": {
        "id": "o02Bcup0_j3Z"
      },
      "source": [
        "아래에 팟홀 표기법을 사용하는 문자열을 지정한다."
      ]
    },
    {
      "cell_type": "code",
      "execution_count": null,
      "metadata": {
        "id": "-IOL7A2H_j3Z"
      },
      "outputs": [],
      "source": [
        "counting = 'one_two_three'"
      ]
    },
    {
      "cell_type": "markdown",
      "metadata": {
        "id": "hGZZdIbi_j3Z"
      },
      "source": [
        "위 문자열을 활용하여 낙타 표기법을 사용하는 문자열을 생성하라.\n",
        "단 모든 단어의 첫글짜는 다음과 같이 대문자로 시작해야 한다.\n",
        "\n",
        "```\n",
        "OneTwoThree\n",
        "```"
      ]
    },
    {
      "cell_type": "markdown",
      "metadata": {
        "id": "QCy_T3tc6QPI"
      },
      "source": [
        "힌트: `split()`, `join()`, `title()` 메서드 활용"
      ]
    },
    {
      "cell_type": "code",
      "execution_count": null,
      "metadata": {
        "id": "RaVjcmGP_j3a",
        "colab": {
          "base_uri": "https://localhost:8080/"
        },
        "outputId": "68c18679-de48-47a0-e1cc-dd88c8d444d1"
      },
      "outputs": [
        {
          "output_type": "stream",
          "name": "stdout",
          "text": [
            "OneTwoThree\n"
          ]
        }
      ],
      "source": [
        "counting1=counting.title().split(\"_\")\n",
        "print(\"\".join(counting1))"
      ]
    },
    {
      "cell_type": "markdown",
      "metadata": {
        "id": "Wf5NSC6DSSky"
      },
      "source": [
        "**예제 4**"
      ]
    },
    {
      "cell_type": "markdown",
      "metadata": {
        "id": "bD_HDNHe6QPM"
      },
      "source": [
        "**어구전철**<font size='2'>anagram</font>은 주어진 단어에 사용된 철자의 순서를 변경해서 생성되는 단어를 가리킨다.\n",
        "예를 들어 \"python\"과 \"thpyon\" 서로 어구전철 관계다.\n",
        "\n",
        "`'happ y'`와 `' ypp ah'` 두 문자열에 대해 공백을 무시하면서 어구전철 여부를 판단하는 코드를 작성하라."
      ]
    },
    {
      "cell_type": "code",
      "execution_count": null,
      "metadata": {
        "id": "JeQbxOgN_j3b",
        "colab": {
          "base_uri": "https://localhost:8080/"
        },
        "outputId": "4a11db47-df50-4505-b789-756e95fb0e19"
      },
      "outputs": [
        {
          "output_type": "stream",
          "name": "stdout",
          "text": [
            "True\n"
          ]
        }
      ],
      "source": [
        "x=\"happ y\";y=\" ypp ah\"\n",
        "X=\"\".join(x.split());Y=\"\".join(y.split())\n",
        "print(X==Y[::-1])"
      ]
    },
    {
      "cell_type": "markdown",
      "metadata": {
        "id": "9CmHgnta_j3b"
      },
      "source": [
        "**예제 5**"
      ]
    },
    {
      "cell_type": "markdown",
      "metadata": {
        "id": "C3FomUWr6QPO"
      },
      "source": [
        "'기러기', '토마토', '우영우', '인싸 의사의 싸인', 'bob', 'eye', 'pop'와 같이\n",
        "앞으로 읽어도, 뒤로 읽어도 동일한 문자열을 **회문**<font size='2'>palindrome</font>이라 부른다.\n",
        "\n",
        "아래 문자열에서 공백 뿐만 아니라 알파벳 대소문자 여부도 무시할 때 회문이 됨을 보이는 코드를 작성하라.\n",
        "\n",
        "힌트: 문자열 `lower()` 메서드,  문자열 슬라이싱 활용"
      ]
    },
    {
      "cell_type": "code",
      "execution_count": null,
      "metadata": {
        "id": "gILSlfod_j3b"
      },
      "outputs": [],
      "source": [
        "word = 'A man a plan a canal Panama'"
      ]
    },
    {
      "cell_type": "code",
      "execution_count": null,
      "metadata": {
        "id": "gfaWnvsK_j3b",
        "colab": {
          "base_uri": "https://localhost:8080/"
        },
        "outputId": "bba5ba9b-17e6-4dca-eefe-551188ca4740"
      },
      "outputs": [
        {
          "output_type": "stream",
          "name": "stdout",
          "text": [
            "True\n"
          ]
        }
      ],
      "source": [
        "Word=\"\".join(word.split()).lower()\n",
        "print(Word==Word[::-1])"
      ]
    },
    {
      "cell_type": "markdown",
      "metadata": {
        "id": "HA2HM48j_j3c"
      },
      "source": [
        "**문제 6**"
      ]
    },
    {
      "cell_type": "markdown",
      "metadata": {
        "id": "jWhykQwZ_j3c"
      },
      "source": [
        "영어 소문자 알파벳은 총 26개이다.\n",
        "`a`, `b`, `c`, ..., `x`, `y`, `z` 각각의 알파벳을 13칸씩 오른쪽으로 이동시키면 다음과 같은 대응 관계가 성립니다.\n",
        "\n",
        "\n",
        "```\n",
        "a => n\n",
        "b => o\n",
        "c => p\n",
        "...\n",
        "x => k\n",
        "y => l\n",
        "z => m\n",
        "```"
      ]
    },
    {
      "cell_type": "markdown",
      "metadata": {
        "id": "PtOfwXAV_j3c"
      },
      "source": [
        "(1) 변수 `alphabet`가 `'c'`를 가리키도록 하자."
      ]
    },
    {
      "cell_type": "code",
      "execution_count": null,
      "metadata": {
        "id": "GJ_Jkeu2_j3c"
      },
      "outputs": [],
      "source": [
        "alphabet = 'c'"
      ]
    },
    {
      "cell_type": "markdown",
      "metadata": {
        "id": "ThkFguFs_j3c"
      },
      "source": [
        "`ord()` 함수와 `chr()` 함수를 이용하여 변수 `alphabet`이 가리키는 값이 대문자 `'P'`가 되도록 하라."
      ]
    },
    {
      "cell_type": "markdown",
      "metadata": {
        "id": "YiysR095_j3c"
      },
      "source": [
        "힌트: [문자열 2부](file:///C:/Users/gslee/Documents/GitHub/42H/jupyter-book/_build/html/strings_part2.html)의 예제 참고"
      ]
    },
    {
      "cell_type": "code",
      "execution_count": null,
      "metadata": {
        "id": "oWfdEfpm_j3c",
        "colab": {
          "base_uri": "https://localhost:8080/"
        },
        "outputId": "0c8616d3-902d-4271-b15f-62fc56cb96ce"
      },
      "outputs": [
        {
          "output_type": "stream",
          "name": "stdout",
          "text": [
            "P\n"
          ]
        }
      ],
      "source": [
        "alphabet1=chr(ord(alphabet)+13-32)\n",
        "print(alphabet1)"
      ]
    },
    {
      "cell_type": "markdown",
      "metadata": {
        "id": "YoN_pSfe_j3d"
      },
      "source": [
        "(2) 변수 `char`가 `'x'`를 가리키도록 하자."
      ]
    },
    {
      "cell_type": "code",
      "execution_count": null,
      "metadata": {
        "id": "ix7tpcrv_j3d"
      },
      "outputs": [],
      "source": [
        "alphabet = 'x'"
      ]
    },
    {
      "cell_type": "markdown",
      "metadata": {
        "id": "fOHdalYv_j3d"
      },
      "source": [
        "`ord()` 함수와 `chr()` 함수를 이용하여 변수 `alphabet`가 가리키는 값이 대문자 `'K'`가 되도록 하라."
      ]
    },
    {
      "cell_type": "code",
      "execution_count": null,
      "metadata": {
        "id": "ukZ_6hYG_j3d",
        "colab": {
          "base_uri": "https://localhost:8080/"
        },
        "outputId": "2ddb7502-4df8-4fde-ee8b-5dc7d125c968"
      },
      "outputs": [
        {
          "output_type": "stream",
          "name": "stdout",
          "text": [
            "K\n"
          ]
        }
      ],
      "source": [
        "alphabet1=chr(ord(alphabet)-13-32)\n",
        "print(alphabet1)"
      ]
    }
  ],
  "metadata": {
    "colab": {
      "provenance": [],
      "include_colab_link": true
    },
    "kernelspec": {
      "display_name": "Python 3 (ipykernel)",
      "language": "python",
      "name": "python3"
    },
    "language_info": {
      "codemirror_mode": {
        "name": "ipython",
        "version": 3
      },
      "file_extension": ".py",
      "mimetype": "text/x-python",
      "name": "python",
      "nbconvert_exporter": "python",
      "pygments_lexer": "ipython3",
      "version": "3.12.7"
    }
  },
  "nbformat": 4,
  "nbformat_minor": 0
}