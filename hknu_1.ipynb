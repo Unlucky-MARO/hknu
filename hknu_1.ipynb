{
  "cells": [
    {
      "cell_type": "markdown",
      "metadata": {
        "id": "view-in-github",
        "colab_type": "text"
      },
      "source": [
        "<a href=\"https://colab.research.google.com/github/Unlucky-ZUT/hknu/blob/main/hknu_1.ipynb\" target=\"_parent\"><img src=\"https://colab.research.google.com/assets/colab-badge.svg\" alt=\"Open In Colab\"/></a>"
      ]
    },
    {
      "cell_type": "markdown",
      "metadata": {
        "id": "2_5MoYjCElSF"
      },
      "source": [
        "# (연습) 프로그래밍 맛보기"
      ]
    },
    {
      "cell_type": "markdown",
      "metadata": {
        "id": "MgBCG_zE0A9f"
      },
      "source": [
        "**주의 사항**\n",
        "\n",
        "* 기존에 작성된 코드 셀과 텍스트 셀은 수정하지 않는다.\n",
        "* 필요한 경우 코드 셀 또는 텍스트 셀을 추가해서 사용한다.\n",
        "* 실습 파일을 제출할 때 구글 드라이브의 링크를 이용하여 누구나 공유할 수 있도록 설정한다."
      ]
    },
    {
      "cell_type": "markdown",
      "metadata": {
        "id": "H6SGWctPElSJ"
      },
      "source": [
        "**문제 1**"
      ]
    },
    {
      "cell_type": "markdown",
      "metadata": {
        "id": "38TvX2ghElSK"
      },
      "source": [
        "아래 명령문들을 실행해서 오류가 발생하는 경우 오류의 종류와 원인을 설명하고 수정하라.\n",
        "오류가 발생하지 않으면 실행 결과를 설명한다."
      ]
    },
    {
      "cell_type": "markdown",
      "metadata": {
        "id": "Z78WfaMXElSL"
      },
      "source": [
        "(1)"
      ]
    },
    {
      "cell_type": "code",
      "execution_count": null,
      "metadata": {
        "id": "27YyYBe5ElSL",
        "outputId": "7af37a88-ab7b-44dc-8ac0-82a3792f61a9",
        "colab": {
          "base_uri": "https://localhost:8080/",
          "height": 106
        }
      },
      "outputs": [
        {
          "output_type": "error",
          "ename": "SyntaxError",
          "evalue": "unterminated string literal (detected at line 1) (<ipython-input-6-69ef97eb7c7b>, line 1)",
          "traceback": [
            "\u001b[0;36m  File \u001b[0;32m\"<ipython-input-6-69ef97eb7c7b>\"\u001b[0;36m, line \u001b[0;32m1\u001b[0m\n\u001b[0;31m    print(\"Hello World)\u001b[0m\n\u001b[0m          ^\u001b[0m\n\u001b[0;31mSyntaxError\u001b[0m\u001b[0;31m:\u001b[0m unterminated string literal (detected at line 1)\n"
          ]
        }
      ],
      "source": [
        "print(\"Hello World)"
      ]
    },
    {
      "cell_type": "markdown",
      "source": [
        "*  오류 종류: SyntaxError\n",
        "*  오류 원인: 큰 따옴표로 시작한 Hello world 문자열을 큰 따옴표로 닫지 않았기 때문."
      ],
      "metadata": {
        "id": "w3jfptNnEqZf"
      }
    },
    {
      "cell_type": "code",
      "execution_count": null,
      "metadata": {
        "id": "9MrRocz8ElSM",
        "outputId": "fd48074f-b3aa-4b87-a8d8-df33215e97fd",
        "colab": {
          "base_uri": "https://localhost:8080/"
        }
      },
      "outputs": [
        {
          "output_type": "stream",
          "name": "stdout",
          "text": [
            "Hello World\n"
          ]
        }
      ],
      "source": [
        "print(\"Hello World\")\n"
      ]
    },
    {
      "cell_type": "markdown",
      "metadata": {
        "id": "NE-rP16QElSN"
      },
      "source": [
        "(2)"
      ]
    },
    {
      "cell_type": "code",
      "execution_count": null,
      "metadata": {
        "id": "y7WbquQjElSN",
        "outputId": "32342356-1b84-4ab8-8960-daa7c165de35",
        "colab": {
          "base_uri": "https://localhost:8080/",
          "height": 106
        }
      },
      "outputs": [
        {
          "output_type": "error",
          "ename": "SyntaxError",
          "evalue": "invalid syntax. Perhaps you forgot a comma? (<ipython-input-7-cdfda1e99280>, line 1)",
          "traceback": [
            "\u001b[0;36m  File \u001b[0;32m\"<ipython-input-7-cdfda1e99280>\"\u001b[0;36m, line \u001b[0;32m1\u001b[0m\n\u001b[0;31m    print(21 8)\u001b[0m\n\u001b[0m          ^\u001b[0m\n\u001b[0;31mSyntaxError\u001b[0m\u001b[0;31m:\u001b[0m invalid syntax. Perhaps you forgot a comma?\n"
          ]
        }
      ],
      "source": [
        "print(21 8)"
      ]
    },
    {
      "cell_type": "markdown",
      "source": [
        "*  오류 종류: SyntaxError\n",
        "*  오류 원인: 21과 8 사이의 공백 때문. 하나의 숫자를 출력하려면 21과 8사이에\n",
        "수학기호(+,-,*,/,//,% 등)을 넣어 계산을 하거나 21과 8사이의 공백을 지워 출력 해야하고,\n",
        "21과 8 두개의 숫자를 출력하려면 21과 8사이에 쉼표를 넣어 출력해야 한다."
      ],
      "metadata": {
        "id": "_5BPdomTE1em"
      }
    },
    {
      "cell_type": "code",
      "execution_count": null,
      "metadata": {
        "id": "hDq1AETpElSP",
        "outputId": "d64a9f7f-d44d-450a-9691-c5e011a9d81f",
        "colab": {
          "base_uri": "https://localhost:8080/"
        }
      },
      "outputs": [
        {
          "output_type": "stream",
          "name": "stdout",
          "text": [
            "29\n",
            "13\n",
            "168\n",
            "2.625\n",
            "2\n",
            "5\n",
            "218\n",
            "21 8\n"
          ]
        }
      ],
      "source": [
        "print(21+8)\n",
        "print(21-8)\n",
        "print(21*8)\n",
        "print(21/8)\n",
        "print(21//8)\n",
        "print(21%8)\n",
        "print(218)\n",
        "print(21,8)"
      ]
    },
    {
      "cell_type": "markdown",
      "metadata": {
        "id": "lPfS-G3MElSP"
      },
      "source": [
        "(3)"
      ]
    },
    {
      "cell_type": "code",
      "execution_count": null,
      "metadata": {
        "id": "7NUZy4BRElSP",
        "outputId": "dc50d88f-d827-4e7c-89fc-7624483bcb18",
        "colab": {
          "base_uri": "https://localhost:8080/"
        }
      },
      "outputs": [
        {
          "output_type": "stream",
          "name": "stdout",
          "text": [
            "4\n"
          ]
        }
      ],
      "source": [
        "print(2++2)"
      ]
    },
    {
      "cell_type": "markdown",
      "source": [
        "* 오류 종류: 없음.\n",
        "* 오류 원인: 2 + (+2)로 계산이 되기 때문에 오류가 발생하지 않음.\n",
        "\n"
      ],
      "metadata": {
        "id": "qi3yU5C5GjPt"
      }
    },
    {
      "cell_type": "markdown",
      "metadata": {
        "id": "7LF1iYKFElSQ"
      },
      "source": [
        "**문제 2**"
      ]
    },
    {
      "cell_type": "markdown",
      "metadata": {
        "id": "lCmSNmTHElSQ"
      },
      "source": [
        "변수 할당 명령문과 관련하여 주의해야할 점들을 다룬다. 아래 명령문들을 실행해서 오류가 발생하는 경우 오류의 종류와 원인을 설명하고 수정한다."
      ]
    },
    {
      "cell_type": "markdown",
      "metadata": {
        "id": "QV0MJ41fElSR"
      },
      "source": [
        "(1)"
      ]
    },
    {
      "cell_type": "code",
      "execution_count": null,
      "metadata": {
        "id": "a0ePMVlyElSR"
      },
      "outputs": [],
      "source": [
        "x = 2;"
      ]
    },
    {
      "cell_type": "markdown",
      "source": [
        "* 오류 종류: 없음.\n",
        "* 오류 원인: x=2;에서 세미콜론 ;은 코드를 구분하는 역할이기 때문에 ; 다음에 공백이 와도 오류가 발생하지 않음."
      ],
      "metadata": {
        "id": "RGfS_FeUHC91"
      }
    },
    {
      "cell_type": "markdown",
      "metadata": {
        "id": "Bzln74YmElSS"
      },
      "source": [
        "(2)"
      ]
    },
    {
      "cell_type": "code",
      "execution_count": null,
      "metadata": {
        "id": "4I43yFzTElSS",
        "outputId": "4698b827-98a6-4f53-f3b9-6325a044218b",
        "colab": {
          "base_uri": "https://localhost:8080/",
          "height": 106
        }
      },
      "outputs": [
        {
          "output_type": "error",
          "ename": "SyntaxError",
          "evalue": "invalid syntax (<ipython-input-10-c185002cb352>, line 1)",
          "traceback": [
            "\u001b[0;36m  File \u001b[0;32m\"<ipython-input-10-c185002cb352>\"\u001b[0;36m, line \u001b[0;32m1\u001b[0m\n\u001b[0;31m    z = x y\u001b[0m\n\u001b[0m          ^\u001b[0m\n\u001b[0;31mSyntaxError\u001b[0m\u001b[0;31m:\u001b[0m invalid syntax\n"
          ]
        }
      ],
      "source": [
        "z = x y"
      ]
    },
    {
      "cell_type": "markdown",
      "source": [
        "* 오류 종류: SyntaxError\n",
        "* 오류 원인: y가 무엇인지 정의되지 않았고,\n",
        "한개의 변수엔 쉼표,를 쓰지 않으면 한개의 값만 저장이 되기 때문.\n",
        "y의 값을 정의하고 쉼표를 사용해 z라는 변수에 x와 y를 저장해야함."
      ],
      "metadata": {
        "id": "0bXZTvR4IxkC"
      }
    },
    {
      "cell_type": "code",
      "execution_count": null,
      "metadata": {
        "id": "pBJywF-YElSS",
        "outputId": "c7c628a6-d7bb-4422-9688-8f0d799c2eb1",
        "colab": {
          "base_uri": "https://localhost:8080/"
        }
      },
      "outputs": [
        {
          "output_type": "execute_result",
          "data": {
            "text/plain": [
              "(2, 33)"
            ]
          },
          "metadata": {},
          "execution_count": 14
        }
      ],
      "source": [
        "y=33\n",
        "z=x,y\n",
        "z\n"
      ]
    },
    {
      "cell_type": "markdown",
      "metadata": {
        "id": "oiigwEG7ElSS"
      },
      "source": [
        "(3)"
      ]
    },
    {
      "cell_type": "code",
      "execution_count": null,
      "metadata": {
        "id": "7ZzYTmsFElST",
        "outputId": "ec0f1e96-6009-4934-8f7a-afb529d38a69",
        "colab": {
          "base_uri": "https://localhost:8080/",
          "height": 176
        }
      },
      "outputs": [
        {
          "output_type": "error",
          "ename": "NameError",
          "evalue": "name 'oddd' is not defined",
          "traceback": [
            "\u001b[0;31m---------------------------------------------------------------------------\u001b[0m",
            "\u001b[0;31mNameError\u001b[0m                                 Traceback (most recent call last)",
            "\u001b[0;32m<ipython-input-15-3bd68f120562>\u001b[0m in \u001b[0;36m<cell line: 0>\u001b[0;34m()\u001b[0m\n\u001b[1;32m      1\u001b[0m \u001b[0meven\u001b[0m \u001b[0;34m=\u001b[0m \u001b[0;36m3\u001b[0m\u001b[0;34m\u001b[0m\u001b[0;34m\u001b[0m\u001b[0m\n\u001b[1;32m      2\u001b[0m \u001b[0modd\u001b[0m \u001b[0;34m=\u001b[0m \u001b[0;36m17\u001b[0m\u001b[0;34m\u001b[0m\u001b[0;34m\u001b[0m\u001b[0m\n\u001b[0;32m----> 3\u001b[0;31m \u001b[0mprint\u001b[0m\u001b[0;34m(\u001b[0m\u001b[0meven\u001b[0m \u001b[0;34m+\u001b[0m \u001b[0moddd\u001b[0m\u001b[0;34m)\u001b[0m\u001b[0;34m\u001b[0m\u001b[0;34m\u001b[0m\u001b[0m\n\u001b[0m",
            "\u001b[0;31mNameError\u001b[0m: name 'oddd' is not defined"
          ]
        }
      ],
      "source": [
        "even = 3\n",
        "odd = 17\n",
        "print(even + oddd)"
      ]
    },
    {
      "cell_type": "markdown",
      "source": [
        "* 오류 종류: NameError\n",
        "* 오류 원인: odd에 d를 하나 더 붙여 오타가 발생해 정의되지 않은 변수인 oddd를 사용했음."
      ],
      "metadata": {
        "id": "95rm-UzDKmiB"
      }
    },
    {
      "cell_type": "code",
      "execution_count": null,
      "metadata": {
        "id": "ROu96IXHElST",
        "outputId": "667b1367-be31-4cfa-c15c-1422fc76019a",
        "colab": {
          "base_uri": "https://localhost:8080/"
        }
      },
      "outputs": [
        {
          "output_type": "stream",
          "name": "stdout",
          "text": [
            "20\n"
          ]
        }
      ],
      "source": [
        "even=3\n",
        "odd=17\n",
        "print(even+odd)"
      ]
    },
    {
      "cell_type": "markdown",
      "metadata": {
        "id": "LNHOBhznElST"
      },
      "source": [
        "(4)"
      ]
    },
    {
      "cell_type": "code",
      "execution_count": null,
      "metadata": {
        "id": "kH4AiLSuElST",
        "outputId": "879a1cce-4352-46eb-cc13-dd733efc5752",
        "colab": {
          "base_uri": "https://localhost:8080/",
          "height": 176
        }
      },
      "outputs": [
        {
          "output_type": "error",
          "ename": "ZeroDivisionError",
          "evalue": "division by zero",
          "traceback": [
            "\u001b[0;31m---------------------------------------------------------------------------\u001b[0m",
            "\u001b[0;31mZeroDivisionError\u001b[0m                         Traceback (most recent call last)",
            "\u001b[0;32m<ipython-input-18-13d8b99cd052>\u001b[0m in \u001b[0;36m<cell line: 0>\u001b[0;34m()\u001b[0m\n\u001b[1;32m      2\u001b[0m \u001b[0mzero\u001b[0m \u001b[0;34m=\u001b[0m \u001b[0;36m0\u001b[0m\u001b[0;34m\u001b[0m\u001b[0;34m\u001b[0m\u001b[0m\n\u001b[1;32m      3\u001b[0m \u001b[0;34m\u001b[0m\u001b[0m\n\u001b[0;32m----> 4\u001b[0;31m \u001b[0mprint\u001b[0m\u001b[0;34m(\u001b[0m\u001b[0mx\u001b[0m\u001b[0;34m/\u001b[0m\u001b[0mzero\u001b[0m\u001b[0;34m)\u001b[0m\u001b[0;34m\u001b[0m\u001b[0;34m\u001b[0m\u001b[0m\n\u001b[0m",
            "\u001b[0;31mZeroDivisionError\u001b[0m: division by zero"
          ]
        }
      ],
      "source": [
        "x = 3\n",
        "zero = 0\n",
        "\n",
        "print(x/zero)"
      ]
    },
    {
      "cell_type": "markdown",
      "source": [
        "* 오류 종류: ZeroDivisionError\n",
        "* 오류 원인: 분모에 0이 사용되어 계산 값이 무한이기 때문."
      ],
      "metadata": {
        "id": "73vzgqnlLALw"
      }
    },
    {
      "cell_type": "code",
      "execution_count": null,
      "metadata": {
        "id": "_oaB5gKaElST",
        "outputId": "f1996a73-57ab-4a67-a762-8e109b687322",
        "colab": {
          "base_uri": "https://localhost:8080/"
        }
      },
      "outputs": [
        {
          "output_type": "stream",
          "name": "stdout",
          "text": [
            "3.0\n"
          ]
        }
      ],
      "source": [
        "x=3\n",
        "one=1\n",
        "print(x/one)"
      ]
    },
    {
      "cell_type": "markdown",
      "metadata": {
        "id": "xGQmB_iCElST"
      },
      "source": [
        "**문제 3**"
      ]
    },
    {
      "cell_type": "markdown",
      "metadata": {
        "id": "fLMWsswJElST"
      },
      "source": [
        "언급된 값을 표현하는 수식을 표현한 다음에 실행하라."
      ]
    },
    {
      "cell_type": "markdown",
      "metadata": {
        "id": "MVA61J6zElSU"
      },
      "source": [
        "(1) 정수 13에서 정수 19 빼기"
      ]
    },
    {
      "cell_type": "markdown",
      "metadata": {
        "id": "naiZ_IggElSU"
      },
      "source": [
        "힌트: 뺄셈 연산자를 활용한다."
      ]
    },
    {
      "cell_type": "code",
      "execution_count": null,
      "metadata": {
        "id": "DmHeHq-jElSU",
        "outputId": "693af468-fbf7-44bc-9898-1b4f5806c94a",
        "colab": {
          "base_uri": "https://localhost:8080/"
        }
      },
      "outputs": [
        {
          "output_type": "stream",
          "name": "stdout",
          "text": [
            "-6\n"
          ]
        }
      ],
      "source": [
        "print(13-19)"
      ]
    },
    {
      "cell_type": "markdown",
      "metadata": {
        "id": "fyVngXy6ElSU"
      },
      "source": [
        "(2) 정수 81을 정수 3으로 나누기"
      ]
    },
    {
      "cell_type": "markdown",
      "metadata": {
        "id": "2gXowxlaElSU"
      },
      "source": [
        "힌트: 나눗셈 연산자를 활용한다."
      ]
    },
    {
      "cell_type": "code",
      "execution_count": null,
      "metadata": {
        "id": "zmKjOEXDElSU",
        "outputId": "a42bf744-4916-4a23-91e6-e5b3d75884e9",
        "colab": {
          "base_uri": "https://localhost:8080/"
        }
      },
      "outputs": [
        {
          "output_type": "stream",
          "name": "stdout",
          "text": [
            "27.0\n"
          ]
        }
      ],
      "source": [
        "print(81/3)"
      ]
    },
    {
      "cell_type": "markdown",
      "metadata": {
        "id": "o_3yJXuxElSU"
      },
      "source": [
        "(3) 정수 100을 정수 7로 나눈 나머지"
      ]
    },
    {
      "cell_type": "markdown",
      "metadata": {
        "id": "ED3kKnRNElSU"
      },
      "source": [
        "힌트: 나머지 연산자를 활용한다."
      ]
    },
    {
      "cell_type": "code",
      "execution_count": null,
      "metadata": {
        "id": "TckCD9OiElSV",
        "outputId": "b7ee590c-7d12-42ab-b762-51d3f3591e7d",
        "colab": {
          "base_uri": "https://localhost:8080/"
        }
      },
      "outputs": [
        {
          "output_type": "stream",
          "name": "stdout",
          "text": [
            "2\n"
          ]
        }
      ],
      "source": [
        "print(100%7)"
      ]
    },
    {
      "cell_type": "markdown",
      "metadata": {
        "id": "XBpHHqJAElSV"
      },
      "source": [
        "(4) 정수 7.2의 세제곱"
      ]
    },
    {
      "cell_type": "markdown",
      "metadata": {
        "id": "E9lOCTzcElSd"
      },
      "source": [
        "힌트: 거듭제곱 연산자를 활용한다."
      ]
    },
    {
      "cell_type": "code",
      "execution_count": null,
      "metadata": {
        "id": "MyyrYPvUElSd",
        "outputId": "beee6d97-aa9f-431e-9f02-fb266e0018c2",
        "colab": {
          "base_uri": "https://localhost:8080/"
        }
      },
      "outputs": [
        {
          "output_type": "stream",
          "name": "stdout",
          "text": [
            "373.24800000000005\n"
          ]
        }
      ],
      "source": [
        "print(7.2**3)"
      ]
    },
    {
      "cell_type": "markdown",
      "metadata": {
        "id": "eYvFWKTBElSd"
      },
      "source": [
        "**문제 4**"
      ]
    },
    {
      "cell_type": "markdown",
      "metadata": {
        "id": "T2yIZxPUElSe"
      },
      "source": [
        "먼저 아래와 같이 두 개의 변수를 선언한다."
      ]
    },
    {
      "cell_type": "code",
      "execution_count": null,
      "metadata": {
        "id": "TxSZF9snElSe"
      },
      "outputs": [],
      "source": [
        "width = 17\n",
        "height = 12.0"
      ]
    },
    {
      "cell_type": "markdown",
      "metadata": {
        "id": "AOyW7dFwElSe"
      },
      "source": [
        "언급된 값을 표현하는 수식을 두 변수를 이용하여 표현한 다음에 실행하여라."
      ]
    },
    {
      "cell_type": "markdown",
      "metadata": {
        "id": "MhsM5nmSElSe"
      },
      "source": [
        "(1) width를 2로 나눗 몫"
      ]
    },
    {
      "cell_type": "code",
      "execution_count": null,
      "metadata": {
        "id": "U4SORExnElSe",
        "outputId": "daf5a655-6103-4edd-9457-886c664fa760",
        "colab": {
          "base_uri": "https://localhost:8080/"
        }
      },
      "outputs": [
        {
          "output_type": "stream",
          "name": "stdout",
          "text": [
            "8\n"
          ]
        }
      ],
      "source": [
        "print(width//2)"
      ]
    },
    {
      "cell_type": "markdown",
      "metadata": {
        "id": "KfAtpQxZElSe"
      },
      "source": [
        "(2) width 나누기 2"
      ]
    },
    {
      "cell_type": "code",
      "execution_count": null,
      "metadata": {
        "id": "vFLXIwtzElSf",
        "outputId": "1b742123-bdfc-4f50-9c53-7ee27e3cd217",
        "colab": {
          "base_uri": "https://localhost:8080/"
        }
      },
      "outputs": [
        {
          "output_type": "stream",
          "name": "stdout",
          "text": [
            "8.5\n"
          ]
        }
      ],
      "source": [
        "print(width/2)"
      ]
    },
    {
      "cell_type": "markdown",
      "metadata": {
        "id": "Gy6LjIz0ElSf"
      },
      "source": [
        "(3) width 나누기 2.0"
      ]
    },
    {
      "cell_type": "code",
      "execution_count": null,
      "metadata": {
        "id": "1FBHf_SEElSf",
        "outputId": "b5b5be4d-df09-4789-eb23-be4ead7bcf86",
        "colab": {
          "base_uri": "https://localhost:8080/"
        }
      },
      "outputs": [
        {
          "output_type": "stream",
          "name": "stdout",
          "text": [
            "8.5\n"
          ]
        }
      ],
      "source": [
        "print(width/2.0)"
      ]
    },
    {
      "cell_type": "markdown",
      "metadata": {
        "id": "xSykEagBElSf"
      },
      "source": [
        "(4) height 나누기 3"
      ]
    },
    {
      "cell_type": "code",
      "execution_count": null,
      "metadata": {
        "id": "4qr9XGEPElSf",
        "outputId": "98d878ee-21d0-4403-f365-a849476d65a5",
        "colab": {
          "base_uri": "https://localhost:8080/"
        }
      },
      "outputs": [
        {
          "output_type": "stream",
          "name": "stdout",
          "text": [
            "4.0\n"
          ]
        }
      ],
      "source": [
        "print(height/3)"
      ]
    },
    {
      "cell_type": "markdown",
      "metadata": {
        "id": "JFkJ5DG2ElSg"
      },
      "source": [
        "(5) 2 곱하기 5에 1 더하기"
      ]
    },
    {
      "cell_type": "code",
      "execution_count": null,
      "metadata": {
        "id": "OOKRS17tElSg",
        "outputId": "8fb0d123-eeb6-4ff3-b2ce-3c6c4d7881aa",
        "colab": {
          "base_uri": "https://localhost:8080/"
        }
      },
      "outputs": [
        {
          "output_type": "stream",
          "name": "stdout",
          "text": [
            "11\n"
          ]
        }
      ],
      "source": [
        "print(2*5+1)"
      ]
    },
    {
      "cell_type": "markdown",
      "metadata": {
        "id": "r8Xrllo7ElSg"
      },
      "source": [
        "(6) 2 곱하기 5에 1.0 더하기"
      ]
    },
    {
      "cell_type": "code",
      "execution_count": null,
      "metadata": {
        "id": "tnZAYGPSElSg",
        "outputId": "93a254bc-1a78-4964-942e-61a8577ac9b5",
        "colab": {
          "base_uri": "https://localhost:8080/"
        }
      },
      "outputs": [
        {
          "output_type": "stream",
          "name": "stdout",
          "text": [
            "11.0\n"
          ]
        }
      ],
      "source": [
        "print(2*5+1.0)"
      ]
    },
    {
      "cell_type": "markdown",
      "metadata": {
        "id": "sNhC2dt1ElSg"
      },
      "source": [
        "**문제 5**"
      ]
    },
    {
      "cell_type": "markdown",
      "metadata": {
        "id": "M6sZIf1nElSh"
      },
      "source": [
        "오전 6시 52분에 집을 떠나서, 가볍게 (km당 8분 15초 소요) 1km를 뛰고,\n",
        "이어서 좀 빠르게 (km당 7분 12초 소요) 3km를 뛴 후, 다시 가볍게 1km를 마저 달려 집으로 돌아오면\n",
        "집에 도착하는 시간을 계산하여 아래처럼 출력하는 코드를 작성하라.\n",
        "\n",
        "    집에 도착 시간: 7 시 30 분 6 초\n",
        "\n",
        "힌트: 정수 나눗셈의 몫과 나머지 연산자 활용"
      ]
    },
    {
      "cell_type": "code",
      "execution_count": null,
      "metadata": {
        "id": "jnS4JRepElSh",
        "outputId": "36c2290a-9b90-4984-d8bd-f1b85aef15a7",
        "colab": {
          "base_uri": "https://localhost:8080/"
        }
      },
      "outputs": [
        {
          "output_type": "stream",
          "name": "stdout",
          "text": [
            "집에 도착 시간: 7 시 30 분 6 초\n"
          ]
        }
      ],
      "source": [
        "print(\"집에 도착 시간:\",6+(52+(495*2+432*3)//60)//60,\"시\",(52+(495*2+432*3)//60)%60,\"분\",(495*2+432*3)%60,\"초\")"
      ]
    }
  ],
  "metadata": {
    "colab": {
      "provenance": [],
      "include_colab_link": true
    },
    "kernelspec": {
      "display_name": "Python 3 (ipykernel)",
      "language": "python",
      "name": "python3"
    },
    "language_info": {
      "codemirror_mode": {
        "name": "ipython",
        "version": 3
      },
      "file_extension": ".py",
      "mimetype": "text/x-python",
      "name": "python",
      "nbconvert_exporter": "python",
      "pygments_lexer": "ipython3",
      "version": "3.12.7"
    }
  },
  "nbformat": 4,
  "nbformat_minor": 0
}