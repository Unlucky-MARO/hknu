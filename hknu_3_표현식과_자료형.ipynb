{
  "cells": [
    {
      "cell_type": "markdown",
      "metadata": {
        "id": "view-in-github",
        "colab_type": "text"
      },
      "source": [
        "<a href=\"https://colab.research.google.com/github/Unlucky-MARO/hknu/blob/main/hknu_3_%ED%91%9C%ED%98%84%EC%8B%9D%EA%B3%BC_%EC%9E%90%EB%A3%8C%ED%98%95.ipynb\" target=\"_parent\"><img src=\"https://colab.research.google.com/assets/colab-badge.svg\" alt=\"Open In Colab\"/></a>"
      ]
    },
    {
      "cell_type": "markdown",
      "id": "2d03d247-e2d3-4afe-ab5e-83dc989ed62d",
      "metadata": {
        "id": "2d03d247-e2d3-4afe-ab5e-83dc989ed62d"
      },
      "source": [
        "# (연습) 표현식과 자료형"
      ]
    },
    {
      "cell_type": "markdown",
      "id": "99edeeb9",
      "metadata": {
        "id": "99edeeb9"
      },
      "source": [
        "**주의 사항**\n",
        "\n",
        "* 기존에 작성된 코드셀/텍스트셀은 수정하지 않는다.\n",
        "* 필요한 경우 코드셀 또는 텍스트셀을 추가할 수 있다."
      ]
    },
    {
      "cell_type": "markdown",
      "id": "542ac02e",
      "metadata": {
        "id": "542ac02e"
      },
      "source": [
        "**문제 1**"
      ]
    },
    {
      "cell_type": "markdown",
      "id": "756a7bd3",
      "metadata": {
        "id": "756a7bd3"
      },
      "source": [
        "`dogs`와 `cats` 두 변수를 다음과 같이 선언한다."
      ]
    },
    {
      "cell_type": "code",
      "execution_count": null,
      "id": "fd85c92c",
      "metadata": {
        "id": "fd85c92c"
      },
      "outputs": [],
      "source": [
        "dogs = '12'\n",
        "cats = '7'"
      ]
    },
    {
      "cell_type": "markdown",
      "id": "242d8e23",
      "metadata": {
        "id": "242d8e23"
      },
      "source": [
        "강아지가 고양이보다 몇 마리 더 많은지를 아래 형식으로\n",
        "출력하는 코드를 작성하라.\n",
        "\n",
        "```python\n",
        "강아지가 고양이보다 5 마리 더 많다.\n",
        "```"
      ]
    },
    {
      "cell_type": "markdown",
      "id": "c4bd45cd",
      "metadata": {
        "id": "c4bd45cd"
      },
      "source": [
        "힌트: `int()` 함수 활용"
      ]
    },
    {
      "cell_type": "code",
      "execution_count": null,
      "id": "a3bf14c1",
      "metadata": {
        "id": "a3bf14c1",
        "outputId": "901bf098-1301-4680-fa31-375bc4dc8940",
        "colab": {
          "base_uri": "https://localhost:8080/"
        }
      },
      "outputs": [
        {
          "output_type": "stream",
          "name": "stdout",
          "text": [
            "강아지가 고양이보다 5 마리 더 많다.\n"
          ]
        }
      ],
      "source": [
        "print(\"강아지가 고양이보다\",int(dogs)-int(cats),\"마리 더 많다.\")"
      ]
    },
    {
      "cell_type": "markdown",
      "id": "11f4f7d8",
      "metadata": {
        "id": "11f4f7d8"
      },
      "source": [
        "**문제 2**"
      ]
    },
    {
      "cell_type": "markdown",
      "id": "880d1137",
      "metadata": {
        "id": "880d1137"
      },
      "source": [
        "두 변수가 다음과 같이 선언된다."
      ]
    },
    {
      "cell_type": "code",
      "execution_count": null,
      "id": "08c0b47b",
      "metadata": {
        "id": "08c0b47b"
      },
      "outputs": [],
      "source": [
        "x = 2.4\n",
        "y = 5.7"
      ]
    },
    {
      "cell_type": "markdown",
      "id": "efab27ec",
      "metadata": {
        "id": "efab27ec"
      },
      "source": [
        "두 변수가 가리키는 값의 조화 평균을 계산하는 표현식을 정의한 다음에 변수 z에 할당한다.\n",
        "또한 z가 가리키는 값과 자료형을 화면에 다음과 같이 출력한다.\n",
        "\n",
        "    2.4 와 5.7 의 조화평균: 3.38\n",
        "\n",
        "단, `x`와 `y`의 조화평균은 다음과 같이 계산하며, 소수점 이하 셋째 자리에서 반올림한다.\n",
        "\n",
        "    2 / (1/x + 1/y)\n",
        "\n",
        "힌트: `round()` 함수 활용"
      ]
    },
    {
      "cell_type": "code",
      "execution_count": null,
      "id": "efe30b22",
      "metadata": {
        "id": "efe30b22",
        "outputId": "421eb9ef-df69-4ec9-a14f-7dcbb94ab330",
        "colab": {
          "base_uri": "https://localhost:8080/"
        }
      },
      "outputs": [
        {
          "output_type": "stream",
          "name": "stdout",
          "text": [
            "2.4 와 5.7 의 조화평균: 3.38\n"
          ]
        }
      ],
      "source": [
        "print(x,\"와\",y,\"의 조화평균:\",round(2/(1/x+1/y),2))\n"
      ]
    },
    {
      "cell_type": "markdown",
      "id": "fdd24fd8",
      "metadata": {
        "id": "fdd24fd8"
      },
      "source": [
        "**문제 3**"
      ]
    },
    {
      "cell_type": "markdown",
      "id": "51a10058",
      "metadata": {
        "id": "51a10058"
      },
      "source": [
        "다음과 같이 변수가 선언된다."
      ]
    },
    {
      "cell_type": "code",
      "execution_count": null,
      "id": "a14ddf3e",
      "metadata": {
        "id": "a14ddf3e"
      },
      "outputs": [],
      "source": [
        "multiple3 = 24\n",
        "multiple5 = 25"
      ]
    },
    {
      "cell_type": "markdown",
      "id": "10bb734b",
      "metadata": {
        "id": "10bb734b"
      },
      "source": [
        "두 변수가 가리키는 값에 따라 아래 형식으로 출력되도록 한다.\n",
        "\n",
        "- 3의 배수인 경우:\n",
        "\n",
        "        24 은(는) 3의 배수다.\n",
        "    \n",
        "- 3의 배수가 아닌경우:\n",
        "\n",
        "        25 은(는) 3으로 나누면 나머지가 1 이다.\n",
        "        \n",
        "단, 변수를 이용하여 3의 배수인지 여부를 확인하는 표현식을 활용한다.\n",
        "\n",
        "힌트: `if ... else ...` 조건문 사용."
      ]
    },
    {
      "cell_type": "code",
      "execution_count": null,
      "id": "0edbd235",
      "metadata": {
        "id": "0edbd235",
        "outputId": "bfd2a99e-8732-46ed-da3b-0df071a9f30d",
        "colab": {
          "base_uri": "https://localhost:8080/"
        }
      },
      "outputs": [
        {
          "output_type": "stream",
          "name": "stdout",
          "text": [
            "24 은(는) 3의 배수다.\n",
            "25 은(는) 3으로 나누면 나머지가 1 이다.\n"
          ]
        }
      ],
      "source": [
        "multiple=[multiple3,multiple5]\n",
        "for i in multiple:\n",
        "  if i%3==0:\n",
        "    print(i,\"은(는) 3의 배수다.\")\n",
        "  else:\n",
        "    print(i,\"은(는) 3으로 나누면 나머지가\",i%3,\"이다.\")\n"
      ]
    },
    {
      "cell_type": "markdown",
      "id": "e4805692",
      "metadata": {
        "id": "e4805692"
      },
      "source": [
        "**문제 4**"
      ]
    },
    {
      "cell_type": "markdown",
      "id": "f4a72767",
      "metadata": {
        "id": "f4a72767"
      },
      "source": [
        "대기실에 8개의 의자가 일렬로 놓여 있다.\n",
        "어느 두 사람도 이웃하여 앉지 않을 때, 앉을 수 있는 최대 인원이 앉는 방식과\n",
        "최소 인원이 앉는 방식을 문자열로 출력한다.\n",
        "\n",
        "단, 자리를 채운 후에는 더 이상 어느 누구도 자리에 앉을 수 없어야 한다.\n",
        "예를 들어 아래 방식으로 앉는 것은 허용되지 않는다.\n",
        "아래 표에서 `O`은 채워진 자리를, `X`는 빈자리를 가리킨다.\n",
        "\n",
        "| 불가능 방식 | 이유 |\n",
        "| :---: | :--- |\n",
        "| `XXOXOXOX` | 왼쪽 끝에 한 명 더 앉을 수 있음 |\n",
        "| `XOXXOXXX` | 오른쪽 끝에 한 명 더 앉을 수 있음|"
      ]
    },
    {
      "cell_type": "code",
      "execution_count": null,
      "id": "a14e44ae",
      "metadata": {
        "id": "a14e44ae",
        "outputId": "ef718160-2a52-4fb3-fec1-2b1424516d13",
        "colab": {
          "base_uri": "https://localhost:8080/"
        }
      },
      "outputs": [
        {
          "output_type": "stream",
          "name": "stdout",
          "text": [
            "앉을 수 있는 최대 인원: 4 OXOXOXOX or XOXOXOXO\n",
            "앉을 수 있는 최소 인원: 3 XOXXOXXO or OXXOXXOX or XOXXOXOX or XOXOXXOX\n"
          ]
        }
      ],
      "source": [
        "chair=8\n",
        "chair_max=chair//2\n",
        "chair_min=chair//3+(1 if chair%3 !=0 else 0)\n",
        "print(\"앉을 수 있는 최대 인원:\",chair_max,\"OXOXOXOX or XOXOXOXO\")\n",
        "print(\"앉을 수 있는 최소 인원:\",chair_min,\"XOXXOXXO or OXXOXXOX or XOXXOXOX or XOXOXXOX\")"
      ]
    }
  ],
  "metadata": {
    "kernelspec": {
      "display_name": "Python 3 (ipykernel)",
      "language": "python",
      "name": "python3"
    },
    "language_info": {
      "codemirror_mode": {
        "name": "ipython",
        "version": 3
      },
      "file_extension": ".py",
      "mimetype": "text/x-python",
      "name": "python",
      "nbconvert_exporter": "python",
      "pygments_lexer": "ipython3",
      "version": "3.12.7"
    },
    "toc-autonumbering": true,
    "toc-showcode": false,
    "toc-showmarkdowntxt": false,
    "colab": {
      "provenance": [],
      "include_colab_link": true
    }
  },
  "nbformat": 4,
  "nbformat_minor": 5
}