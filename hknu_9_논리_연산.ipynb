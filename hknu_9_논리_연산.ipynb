{
  "cells": [
    {
      "cell_type": "markdown",
      "metadata": {
        "id": "view-in-github",
        "colab_type": "text"
      },
      "source": [
        "<a href=\"https://colab.research.google.com/github/Unlucky-MARO/hknu/blob/main/hknu_9_%EB%85%BC%EB%A6%AC_%EC%97%B0%EC%82%B0.ipynb\" target=\"_parent\"><img src=\"https://colab.research.google.com/assets/colab-badge.svg\" alt=\"Open In Colab\"/></a>"
      ]
    },
    {
      "cell_type": "markdown",
      "id": "4355d4f8",
      "metadata": {
        "id": "4355d4f8"
      },
      "source": [
        "# (연습) 논리 연산"
      ]
    },
    {
      "cell_type": "markdown",
      "id": "a0a20bd6",
      "metadata": {
        "id": "a0a20bd6"
      },
      "source": [
        "**주의 사항**\n",
        "\n",
        "* 기존에 작성된 코드 셀과 텍스트 셀은 수정하지 않는다.\n",
        "* 필요한 경우 코드 셀 또는 텍스트 셀을 추가해서 사용한다."
      ]
    },
    {
      "cell_type": "markdown",
      "id": "18234a4f",
      "metadata": {
        "id": "18234a4f"
      },
      "source": [
        "**문제 1**"
      ]
    },
    {
      "cell_type": "markdown",
      "id": "801bb908",
      "metadata": {
        "id": "801bb908"
      },
      "source": [
        "아래 두 논리식이 서로 다른 값을 갖도록 하는 정수 a, b, c, d를 정하라.\n",
        "\n",
        "```python\n",
        "a > b and b > c or c < d          a > b and (b > c or c < d)\n",
        "```"
      ]
    },
    {
      "cell_type": "code",
      "execution_count": null,
      "id": "95d6ea23",
      "metadata": {
        "id": "95d6ea23",
        "outputId": "b4e99851-f874-4b2e-ae68-13a45da595df",
        "colab": {
          "base_uri": "https://localhost:8080/"
        }
      },
      "outputs": [
        {
          "output_type": "stream",
          "name": "stdout",
          "text": [
            "True\n",
            "False\n"
          ]
        }
      ],
      "source": [
        "a = 7\n",
        "b = 10\n",
        "c = 8\n",
        "d = 9\n",
        "\n",
        "print(a > b and b > c or c < d)\n",
        "print(a > b and (b > c or c < d))"
      ]
    },
    {
      "cell_type": "markdown",
      "id": "3f4dfb1a",
      "metadata": {
        "id": "3f4dfb1a"
      },
      "source": [
        "**문제 2**"
      ]
    },
    {
      "cell_type": "markdown",
      "id": "335c7c2a",
      "metadata": {
        "id": "335c7c2a"
      },
      "source": [
        "두 개의 양의 정수를 입력 받아 두 정수가 다른지 여부를 코드를 구현하라.\n",
        "단, 두 개의 값이 다를 때 참이라는 논리식을 이용해야 한다.\n",
        "또한 첫째 입력값은 변수 `x`에,\n",
        "둘째 입력값은 변수 `y`에 할당한다.\n",
        "최종적으로 결과에 따라 두 값이 다른지 여부를 확인하는 문장을 출력한다."
      ]
    },
    {
      "cell_type": "code",
      "execution_count": null,
      "id": "bbe4d990",
      "metadata": {
        "id": "bbe4d990",
        "outputId": "393d6d8a-74e3-4738-b4ab-ff41d73f6eaa",
        "colab": {
          "base_uri": "https://localhost:8080/"
        }
      },
      "outputs": [
        {
          "output_type": "stream",
          "name": "stdout",
          "text": [
            "3\n",
            "7\n",
            "두 값이 다름\n"
          ]
        }
      ],
      "source": [
        "x = int(input())\n",
        "y = int(input())\n",
        "\n",
        "if x != y:\n",
        "  print(\"두 값이 다름\")\n",
        "else:\n",
        "  print(\"두 값이 같음\")"
      ]
    },
    {
      "cell_type": "markdown",
      "id": "ef667963",
      "metadata": {
        "id": "ef667963"
      },
      "source": [
        "**문제 3**"
      ]
    },
    {
      "cell_type": "markdown",
      "id": "1733ffc8",
      "metadata": {
        "id": "1733ffc8"
      },
      "source": [
        "아래 코드가 실행중에 오류를 발생시키는 이유를 설명하라."
      ]
    },
    {
      "cell_type": "code",
      "execution_count": null,
      "id": "5db9483e",
      "metadata": {
        "id": "5db9483e",
        "outputId": "46f02584-048f-4b0c-aeb6-432b8dcff7c7",
        "colab": {
          "base_uri": "https://localhost:8080/",
          "height": 163
        }
      },
      "outputs": [
        {
          "output_type": "error",
          "ename": "ZeroDivisionError",
          "evalue": "division by zero",
          "traceback": [
            "\u001b[0;31m---------------------------------------------------------------------------\u001b[0m",
            "\u001b[0;31mZeroDivisionError\u001b[0m                         Traceback (most recent call last)",
            "\u001b[0;32m<ipython-input-8-34384b86f1cb>\u001b[0m in \u001b[0;36m<cell line: 0>\u001b[0;34m()\u001b[0m\n\u001b[0;32m----> 1\u001b[0;31m \u001b[0;32mif\u001b[0m \u001b[0;32mTrue\u001b[0m \u001b[0;32mand\u001b[0m \u001b[0;36m3\u001b[0m\u001b[0;34m/\u001b[0m\u001b[0;36m0\u001b[0m\u001b[0;34m:\u001b[0m\u001b[0;34m\u001b[0m\u001b[0;34m\u001b[0m\u001b[0m\n\u001b[0m\u001b[1;32m      2\u001b[0m     \u001b[0mprint\u001b[0m\u001b[0;34m(\u001b[0m\u001b[0;34m\"B\"\u001b[0m\u001b[0;34m)\u001b[0m\u001b[0;34m\u001b[0m\u001b[0;34m\u001b[0m\u001b[0m\n",
            "\u001b[0;31mZeroDivisionError\u001b[0m: division by zero"
          ]
        }
      ],
      "source": [
        "if True and 3/0:\n",
        "    print(\"B\")"
      ]
    },
    {
      "cell_type": "markdown",
      "id": "f3d7f5d2",
      "metadata": {
        "id": "f3d7f5d2"
      },
      "source": [
        "*실행 결과 설명*\n",
        "*  분모에 0이 들어간 나눗셈은 허용하지 않기 때문에 3/0의 참 거짓 여부에서 오류가 발생한다. 참 거짓 여부에서 오류가 발생했기에 print()는 실행되지 않는다."
      ]
    },
    {
      "cell_type": "markdown",
      "id": "75fd1c76",
      "metadata": {
        "id": "75fd1c76"
      },
      "source": [
        "**문제 4**"
      ]
    },
    {
      "cell_type": "markdown",
      "id": "094e4e56",
      "metadata": {
        "id": "094e4e56"
      },
      "source": [
        "사용자로부터 키(cm 단위)와 몸무게(kg 단위)를 입력받아 체질량지수(BMI)를 구하는 코드를 작성하여라.\n",
        "\n",
        "```\n",
        "BMI = 몸무게 / (키 * 0.01)**2\n",
        "```\n",
        "\n",
        "또한 BMI 수치에 따른 체중 분류는 다음과 같다.\n",
        "\n",
        "| BMI 수치 | 체중 분류 |\n",
        "| :--- | :--- |\n",
        "| BMI <= 18.5 | 저체중 |\n",
        "| 18.5 < BMI <= 23 | 정상 |\n",
        "| 23 < BMI <= 25 | 과체중 |\n",
        "| 25 < BMI <= 30 | 비만 |\n",
        "| BMI > 30 | 고도비만 |\n",
        "\n",
        "또한 BMI 결과에 따라 아래 다섯 개의 문장 중에 하나가 출력되어야 한다.\n",
        "\n",
        "```\n",
        "\"BMI는 저체중입니다.\n",
        "\"BMI는 정상 수치입니다.\n",
        "\"BMI는 과체중입니다.\n",
        "\"BMI는 비만입니다.\n",
        "\"BMI는 고도 비만입니다.\n",
        "```"
      ]
    },
    {
      "cell_type": "code",
      "execution_count": 4,
      "id": "926260b9",
      "metadata": {
        "id": "926260b9",
        "colab": {
          "base_uri": "https://localhost:8080/"
        },
        "outputId": "093d70ef-4abe-4c8e-fc75-833d3009bd9e"
      },
      "outputs": [
        {
          "output_type": "stream",
          "name": "stdout",
          "text": [
            "몸무게:80\n",
            "키:178\n",
            "BMI는 비만입니다.\n"
          ]
        }
      ],
      "source": [
        "weight = float(input(\"몸무게:\"))\n",
        "hight = float(input(\"키:\"))\n",
        "BMI = weight / (hight * 0.01)**2\n",
        "\n",
        "if BMI <= 18.5:\n",
        "  print(\"BMI는 저체중입니다.\")\n",
        "elif BMI <= 23:\n",
        "  print(\"BMI는 정상 수치입니다.\")\n",
        "elif BMI <= 25:\n",
        "  print(\"BMI는 과체중입니다.\")\n",
        "elif BMI <= 30:\n",
        "  print(\"BMI는 비만입니다.\")\n",
        "else:\n",
        "  print(\"BMI는 고도 비만입니다.\")"
      ]
    },
    {
      "cell_type": "markdown",
      "id": "dc957fea",
      "metadata": {
        "id": "dc957fea"
      },
      "source": [
        "**문제 5**"
      ]
    },
    {
      "cell_type": "markdown",
      "id": "5b4aa34a",
      "metadata": {
        "id": "5b4aa34a"
      },
      "source": [
        "연도 `year`의 윤년 여부는 아래 기준에 따라 판단된다.\n",
        "\n",
        "- 4의 배수인 경우 윤년,\n",
        "- 하지만 100의 배수인 경우는 평년,\n",
        "- 그래도 400의 배수인 경우는 무조건 윤년!\n",
        "\n",
        "위 기준을 하나의 논리식으로 표현하여 `year`가 윤년인지 여부를 판단하라.\n",
        "\n",
        "단, `and`, `or`, `not` 등을 이용하는 표현식 하나와 `if ... else ... ` 명령문을 사용한다.\\\n",
        "즉 중첩 조건문 또는 `if ... elif ... else ...` 등은 사용하지 않아야 한다."
      ]
    },
    {
      "cell_type": "code",
      "execution_count": 5,
      "id": "5243cb6f",
      "metadata": {
        "id": "5243cb6f",
        "colab": {
          "base_uri": "https://localhost:8080/"
        },
        "outputId": "033d632b-6c89-4c90-dc17-d211d12bf864"
      },
      "outputs": [
        {
          "output_type": "stream",
          "name": "stdout",
          "text": [
            "연도:2002\n",
            "평년\n"
          ]
        }
      ],
      "source": [
        "year = int(input(\"연도:\"))\n",
        "if year % 4 == 0 and year % 100 != 0 or year % 400 == 0:\n",
        "  print(\"윤년\")\n",
        "else:\n",
        "  print(\"평년\")"
      ]
    },
    {
      "cell_type": "markdown",
      "id": "5e129257",
      "metadata": {
        "id": "5e129257"
      },
      "source": [
        "**문제 6**"
      ]
    },
    {
      "cell_type": "markdown",
      "id": "47f70b53",
      "metadata": {
        "id": "47f70b53"
      },
      "source": [
        "아래 코드는 세 개의 막대 길이에 해당하는 부동소수점을 입력받아\n",
        "삼각형을 그릴 수 있는지 여부를 판단한다."
      ]
    },
    {
      "cell_type": "code",
      "execution_count": 6,
      "id": "bf008e93",
      "metadata": {
        "id": "bf008e93",
        "outputId": "9ec3d68a-4b1e-4765-ca78-b2385f0e76b5",
        "colab": {
          "base_uri": "https://localhost:8080/"
        }
      },
      "outputs": [
        {
          "output_type": "stream",
          "name": "stdout",
          "text": [
            "첫째 막대 길이: 9\n",
            "둘째 막대 길이: 9\n",
            "셋째 막대 길이: 9\n",
            "삼각형 가능\n"
          ]
        }
      ],
      "source": [
        "a = float(input(\"첫째 막대 길이: \"))\n",
        "b = float(input(\"둘째 막대 길이: \"))\n",
        "c = float(input(\"셋째 막대 길이: \"))\n",
        "\n",
        "if a >= b + c or b >= a + c or c >= a + b:\n",
        "    print(\"삼각형 불가능\")\n",
        "else:\n",
        "    print(\"삼각형 가능\")"
      ]
    },
    {
      "cell_type": "markdown",
      "id": "0b9fca13",
      "metadata": {
        "id": "0b9fca13"
      },
      "source": [
        "위 코드를 수정해서\n",
        "`or` 연산자를 사용하는 논리식 `a >= b + c or b >= a + c or c >= a + b` 대신에\n",
        "`a >= b + c`, `b >= a + c`, `c >= a + b` 세 개의 논리식을 따로따로 사용하도록 하라.\n",
        "\n",
        "힌트: `if ... elif ... else ...` 명령문 활용"
      ]
    },
    {
      "cell_type": "code",
      "execution_count": 7,
      "id": "33bd54d7",
      "metadata": {
        "id": "33bd54d7",
        "colab": {
          "base_uri": "https://localhost:8080/"
        },
        "outputId": "eda76af9-a5e5-4de4-a74a-19fd469a1c8f"
      },
      "outputs": [
        {
          "output_type": "stream",
          "name": "stdout",
          "text": [
            "첫째 막대 길이: 9\n",
            "둘째 막대 길이: 3\n",
            "셋째 막대 길이: 1\n",
            "삼각형 불가능\n"
          ]
        }
      ],
      "source": [
        "a = float(input(\"첫째 막대 길이: \"))\n",
        "b = float(input(\"둘째 막대 길이: \"))\n",
        "c = float(input(\"셋째 막대 길이: \"))\n",
        "\n",
        "if a >= b + c:\n",
        "  print(\"삼각형 불가능\")\n",
        "elif b >= a + c:\n",
        "  print(\"삼각형 불가능\")\n",
        "elif c >= a + b:\n",
        "  print(\"삼각형 불가능\")\n",
        "else:\n",
        "  print(\"삼각형 가능\")"
      ]
    },
    {
      "cell_type": "markdown",
      "id": "934432ba",
      "metadata": {
        "id": "934432ba"
      },
      "source": [
        "**문제 7**"
      ]
    },
    {
      "cell_type": "markdown",
      "id": "c2dc7f4e",
      "metadata": {
        "id": "c2dc7f4e"
      },
      "source": [
        "직사각형 모양의 바닥에 정사각형 모양의 타일을 깔 때\n",
        "타일은 온장을 그대로 사용할 수도 있고, 잘라서 일부분만 사용할 수도 있다.\n",
        "타일의 크기는 가로, 세로 모두 30cm이며, 잘라서 사용한 타일의 나머지는 사용하지 않는다.\n",
        "\n",
        "가로와 세로 각각 400cm, 500cm 인 바닥을 타일로 덮기 위해 필요한 온장 타일과 잘라서 사용한 타일의 개수의 합을\n",
        "계산하는 코드는 다음과 같다."
      ]
    },
    {
      "cell_type": "code",
      "execution_count": null,
      "id": "4b174f7d",
      "metadata": {
        "id": "4b174f7d",
        "outputId": "ccecd12b-06ae-47ac-dc60-995458a5cf8c"
      },
      "outputs": [
        {
          "name": "stdout",
          "output_type": "stream",
          "text": [
            "필요한 타일의 수: 238\n"
          ]
        }
      ],
      "source": [
        "width = 400\n",
        "height = 500\n",
        "tile_length = 30\n",
        "\n",
        "num_full_width = width // tile_length\n",
        "num_full_height = height // tile_length\n",
        "\n",
        "# 온장 타일 개수\n",
        "num_full = num_full_width * num_full_height\n",
        "\n",
        "# 잘린 타일 개수\n",
        "if width % tile_length == 0:\n",
        "    if height % tile_length == 0:\n",
        "        num_part = 0\n",
        "    else:\n",
        "        num_part = num_full_width\n",
        "\n",
        "else:\n",
        "    if height % tile_length == 0:\n",
        "        num_part = num_full_height\n",
        "    else:\n",
        "        num_part = num_full_width + num_full_height + 1\n",
        "\n",
        "# 온장 타일과 잘라딘 타일 수\n",
        "print(\"필요한 타일의 수:\", num_full + num_part)"
      ]
    },
    {
      "cell_type": "markdown",
      "id": "796acd30",
      "metadata": {
        "id": "796acd30"
      },
      "source": [
        "중첩 조건문 대신 `if ... elif ... elif ... else ...` 명령문을 사용하도록\n",
        "위 코드를 수정하라.\n",
        "\n",
        "힌트: 논리 연산자 활용"
      ]
    },
    {
      "cell_type": "code",
      "execution_count": 8,
      "id": "3c0fa1d5",
      "metadata": {
        "id": "3c0fa1d5",
        "colab": {
          "base_uri": "https://localhost:8080/"
        },
        "outputId": "6223bec3-35c6-414a-8196-c14e9faf8f38"
      },
      "outputs": [
        {
          "output_type": "stream",
          "name": "stdout",
          "text": [
            "필요한 타일의 수: 238\n"
          ]
        }
      ],
      "source": [
        "# 코드를 작성한다.\n",
        "# 필요하면 코드셀 또는 텍스트셀을 추가할 수 있습니다.\n",
        "\n",
        "width = 400\n",
        "height = 500\n",
        "tile_length = 30\n",
        "\n",
        "num_full_width = width // tile_length\n",
        "num_full_height = height // tile_length\n",
        "\n",
        "# 온장 타일 개수\n",
        "num_full = num_full_width * num_full_height\n",
        "\n",
        "# 코드를 이어서 작성하세요.\n",
        "\n",
        "# 잘린 타일 개수\n",
        "if width % tile_length == 0 and height % tile_length == 0:\n",
        "  num_part = 0\n",
        "elif width % tile_length == 0 and height % tile_length != 0:\n",
        "  num_part = num_full_width\n",
        "elif width % tile_length != 0 and height % tile_length == 0:\n",
        "  num_part = num_full_height\n",
        "else:\n",
        "  num_part = num_full_width + num_full_height + 1\n",
        "\n",
        "# 온장 타일과 잘라딘 타일 수\n",
        "print(\"필요한 타일의 수:\", num_full + num_part)\n",
        "\n"
      ]
    }
  ],
  "metadata": {
    "colab": {
      "provenance": [],
      "include_colab_link": true
    },
    "kernelspec": {
      "display_name": "Python 3 (ipykernel)",
      "language": "python",
      "name": "python3"
    },
    "language_info": {
      "codemirror_mode": {
        "name": "ipython",
        "version": 3
      },
      "file_extension": ".py",
      "mimetype": "text/x-python",
      "name": "python",
      "nbconvert_exporter": "python",
      "pygments_lexer": "ipython3",
      "version": "3.12.7"
    }
  },
  "nbformat": 4,
  "nbformat_minor": 5
}