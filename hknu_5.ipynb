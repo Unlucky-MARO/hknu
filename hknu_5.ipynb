{
  "cells": [
    {
      "cell_type": "markdown",
      "metadata": {
        "id": "view-in-github",
        "colab_type": "text"
      },
      "source": [
        "<a href=\"https://colab.research.google.com/github/Unlucky-MARO/hknu/blob/main/hknu_5.ipynb\" target=\"_parent\"><img src=\"https://colab.research.google.com/assets/colab-badge.svg\" alt=\"Open In Colab\"/></a>"
      ]
    },
    {
      "cell_type": "markdown",
      "metadata": {
        "id": "fWoljhfXJcry"
      },
      "source": [
        "# (연습) 문자열 1부"
      ]
    },
    {
      "cell_type": "markdown",
      "metadata": {
        "id": "MgBCG_zE0A9f"
      },
      "source": [
        "**주의 사항**\n",
        "\n",
        "* 기존에 작성된 코드 셀과 텍스트 셀은 수정하지 않는다.\n",
        "* 필요한 경우 코드 셀 또는 텍스트 셀을 추가해서 사용한다."
      ]
    },
    {
      "cell_type": "markdown",
      "metadata": {
        "id": "g_U823egJcr1"
      },
      "source": [
        "**문제 1**"
      ]
    },
    {
      "cell_type": "markdown",
      "metadata": {
        "id": "KaU92IVRJcr1"
      },
      "source": [
        "아래 코드의 실행 결과를 설명하라."
      ]
    },
    {
      "cell_type": "code",
      "execution_count": null,
      "metadata": {
        "id": "31hy4xV0Jcr2",
        "outputId": "2aed42c1-d0e3-451e-9231-291089bdce20",
        "colab": {
          "base_uri": "https://localhost:8080/"
        }
      },
      "outputs": [
        {
          "output_type": "stream",
          "name": "stdout",
          "text": [
            "\tHello World\n",
            "\\\n"
          ]
        }
      ],
      "source": [
        "print(\"\\tHello World\\n\\\\\")"
      ]
    },
    {
      "cell_type": "markdown",
      "source": [
        "* 실행 결과:\n",
        "* \\t로 4칸 띄운다음 \"Hello World\"를 출력한 뒤 \\n으로 줄바꿈 하고 \\\\\\로 \\출력"
      ],
      "metadata": {
        "id": "jsWpq_TRJhEY"
      }
    },
    {
      "cell_type": "markdown",
      "metadata": {
        "id": "pbe-P2vyJcr4"
      },
      "source": [
        "**문제 2**"
      ]
    },
    {
      "cell_type": "markdown",
      "metadata": {
        "id": "ua8hOLFbJcr5"
      },
      "source": [
        "아래 코드의 실행 결과를 설명하라."
      ]
    },
    {
      "cell_type": "code",
      "execution_count": null,
      "metadata": {
        "id": "zS7ixn3lJcr5",
        "outputId": "ac37a19e-adfd-444f-d9f8-bc83399f83e7",
        "colab": {
          "base_uri": "https://localhost:8080/"
        }
      },
      "outputs": [
        {
          "output_type": "execute_result",
          "data": {
            "text/plain": [
              "30"
            ]
          },
          "metadata": {},
          "execution_count": 4
        }
      ],
      "source": [
        "len(' \\t\\n' * 10)"
      ]
    },
    {
      "cell_type": "markdown",
      "source": [
        "* 실행 결과:\n",
        "* ' \\t\\n'인 공백 한 칸, \\t, \\n으로 길이가 3인 문자열에 *10을 하여 총 길이를 30으로 늘린 뒤 len()으로 문자열의 길이를 출력"
      ],
      "metadata": {
        "id": "oxYVWr8hJqt3"
      }
    },
    {
      "cell_type": "markdown",
      "metadata": {
        "id": "CQCEYXc6Jcr6"
      },
      "source": [
        "**문제 3**"
      ]
    },
    {
      "cell_type": "markdown",
      "metadata": {
        "id": "Is7lCZq_Jcr7"
      },
      "source": [
        "아래 세 코드의 실행 결과의 차이점을 설명하라."
      ]
    },
    {
      "cell_type": "markdown",
      "metadata": {
        "id": "gk1sRUslJcr7"
      },
      "source": [
        "- 코드 1"
      ]
    },
    {
      "cell_type": "code",
      "execution_count": null,
      "metadata": {
        "colab": {
          "base_uri": "https://localhost:8080/"
        },
        "id": "uWMelcUxJcr7",
        "outputId": "b3dec97b-c5e9-4a1d-dd62-4b42599cfe3d"
      },
      "outputs": [
        {
          "output_type": "stream",
          "name": "stdout",
          "text": [
            "C:\\Users\\user\\Downloads\n"
          ]
        }
      ],
      "source": [
        "print(r\"C:\\Users\\user\\Downloads\")"
      ]
    },
    {
      "cell_type": "markdown",
      "metadata": {
        "id": "qrl08VHUJcr7"
      },
      "source": [
        "- 코드 2"
      ]
    },
    {
      "cell_type": "code",
      "execution_count": null,
      "metadata": {
        "colab": {
          "base_uri": "https://localhost:8080/",
          "height": 106
        },
        "id": "AIKCF6M3Jcr8",
        "outputId": "a6ff7a51-ef92-49b7-aa56-122a7acfef17"
      },
      "outputs": [
        {
          "output_type": "error",
          "ename": "SyntaxError",
          "evalue": "unterminated string literal (detected at line 1) (<ipython-input-6-e9621a1ff7f2>, line 1)",
          "traceback": [
            "\u001b[0;36m  File \u001b[0;32m\"<ipython-input-6-e9621a1ff7f2>\"\u001b[0;36m, line \u001b[0;32m1\u001b[0m\n\u001b[0;31m    print(r\"C:\\Users\\user\\Downloads\\\")\u001b[0m\n\u001b[0m          ^\u001b[0m\n\u001b[0;31mSyntaxError\u001b[0m\u001b[0;31m:\u001b[0m unterminated string literal (detected at line 1)\n"
          ]
        }
      ],
      "source": [
        "print(r\"C:\\Users\\user\\Downloads\\\")"
      ]
    },
    {
      "cell_type": "markdown",
      "metadata": {
        "id": "BH0s2Un-Jcr8"
      },
      "source": [
        "- 코드 3"
      ]
    },
    {
      "cell_type": "code",
      "execution_count": null,
      "metadata": {
        "colab": {
          "base_uri": "https://localhost:8080/"
        },
        "id": "HSVEGYkLJcr8",
        "outputId": "a3a25b46-25b7-44e7-a7dc-4e81b9ecb09c"
      },
      "outputs": [
        {
          "output_type": "stream",
          "name": "stdout",
          "text": [
            "C:\\Users\\user\\Downloads\\\\\n"
          ]
        }
      ],
      "source": [
        "print(r\"C:\\Users\\user\\Downloads\\\\\")"
      ]
    },
    {
      "cell_type": "markdown",
      "source": [
        "* 실행 결과의 차이점:\n",
        "* 코드 1과 코드 3은 문자열이 정상적으로 닫혀있는 반면, 코드 2는 문자열 끝 \\\\\"으로 인해 문자열이 닫히지 않아 오류가 발생한다.\n",
        "* 코드 2는 문자열 끝에 \\가 사용되어 Python이 \"를 탈출하려는 것으로 판단하여 문자열이 닫히지 않은 오류가 발생한다.\n",
        "코드 1은 오류 없이 실행되고, 코드 3에서는 \\가 두 개(\\\\\\\\) 사용되어 문자열이 정상적으로 닫힐 수 있으므로 오류 없이 실행된다."
      ],
      "metadata": {
        "id": "rz-vb02rKSSQ"
      }
    },
    {
      "cell_type": "markdown",
      "metadata": {
        "id": "2x_ntppOJcr9"
      },
      "source": [
        "**문제 4**"
      ]
    },
    {
      "cell_type": "markdown",
      "metadata": {
        "id": "cHJbyr2AJcr9"
      },
      "source": [
        "아래 부동소수점을 소수점 이하 셋째 자리까지만 출력되도록 f-문자열을 활용하라."
      ]
    },
    {
      "cell_type": "code",
      "execution_count": null,
      "metadata": {
        "id": "gysi1FL9Jcr9"
      },
      "outputs": [],
      "source": [
        "num = 23.36778\n",
        "num1 = -84.99888"
      ]
    },
    {
      "cell_type": "code",
      "execution_count": null,
      "metadata": {
        "id": "9XtqR8unJcr9",
        "outputId": "8603b43d-8174-4ec8-a356-52000d9adb5f",
        "colab": {
          "base_uri": "https://localhost:8080/"
        }
      },
      "outputs": [
        {
          "output_type": "stream",
          "name": "stdout",
          "text": [
            "23.368\n",
            "-84.999\n"
          ]
        }
      ],
      "source": [
        "print(f\"{num:.3f}\")\n",
        "print(f\"{num1:.3f}\")"
      ]
    },
    {
      "cell_type": "markdown",
      "metadata": {
        "id": "vIjNUWBQJcr-"
      },
      "source": [
        "**문제 5**"
      ]
    },
    {
      "cell_type": "markdown",
      "metadata": {
        "id": "IUlDEPE2Jcr-"
      },
      "source": [
        "아래 부동소수점의 소수점을 모두 버리로 정수 부문만 출력되도록 f-문자열을 활용하라.\n",
        "또한 정수는 총 10칸을 차지하도록 한다.\n",
        "단, `int()` 함수는 사용하지 않는다."
      ]
    },
    {
      "cell_type": "code",
      "execution_count": null,
      "metadata": {
        "id": "GGm1YAIdJcr-"
      },
      "outputs": [],
      "source": [
        "num2 = 23.36778\n",
        "num3 = 8223.62874636778"
      ]
    },
    {
      "cell_type": "code",
      "execution_count": null,
      "metadata": {
        "id": "jTv3-e5fJcr-",
        "outputId": "7a9161ae-d4c2-4b0d-d67e-2413dd572a25",
        "colab": {
          "base_uri": "https://localhost:8080/"
        }
      },
      "outputs": [
        {
          "output_type": "stream",
          "name": "stdout",
          "text": [
            "        23\n",
            "      8224\n"
          ]
        }
      ],
      "source": [
        "print(f\"{num2:>10.0f}\")\n",
        "print(f\"{num3:>10.0f}\")"
      ]
    },
    {
      "cell_type": "markdown",
      "metadata": {
        "id": "A6AOSH4tJcr_"
      },
      "source": [
        "**문제 6**"
      ]
    },
    {
      "cell_type": "markdown",
      "metadata": {
        "id": "pXDyNw2kJcr_"
      },
      "source": [
        "아래 두 개의 부동소수점을 총 15 칸을 차지하도록 f-문자열을 활용하라.\n",
        "또한 소수점 이하 다섯째 자리까지만 출력되록 한다.\n",
        "단 모든 정수는 오른쪽으로 정렬되어야 하며 앞쪽 빈칸은 `+` 기호로 채운다."
      ]
    },
    {
      "cell_type": "code",
      "execution_count": null,
      "metadata": {
        "id": "f1y8xS7_Jcr_"
      },
      "outputs": [],
      "source": [
        "num4 = 887223.8348161\n",
        "num5 = 6833.127230009267"
      ]
    },
    {
      "cell_type": "code",
      "execution_count": null,
      "metadata": {
        "id": "TyXpysH4Jcr_",
        "outputId": "6f74f8a8-6ad0-420b-fc10-06751b3dfd25",
        "colab": {
          "base_uri": "https://localhost:8080/"
        }
      },
      "outputs": [
        {
          "output_type": "stream",
          "name": "stdout",
          "text": [
            "+++887223.83482\n",
            "+++++6833.12723\n"
          ]
        }
      ],
      "source": [
        "print(f\"{num4:+>15.5f}\")\n",
        "print(f\"{num5:+>15.5f}\")"
      ]
    }
  ],
  "metadata": {
    "colab": {
      "provenance": [],
      "include_colab_link": true
    },
    "kernelspec": {
      "display_name": "Python 3 (ipykernel)",
      "language": "python",
      "name": "python3"
    },
    "language_info": {
      "codemirror_mode": {
        "name": "ipython",
        "version": 3
      },
      "file_extension": ".py",
      "mimetype": "text/x-python",
      "name": "python",
      "nbconvert_exporter": "python",
      "pygments_lexer": "ipython3",
      "version": "3.12.2"
    }
  },
  "nbformat": 4,
  "nbformat_minor": 0
}