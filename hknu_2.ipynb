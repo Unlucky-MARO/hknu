{
  "cells": [
    {
      "cell_type": "markdown",
      "metadata": {
        "id": "view-in-github",
        "colab_type": "text"
      },
      "source": [
        "<a href=\"https://colab.research.google.com/github/Unlucky-MARO/hknu/blob/main/hknu_2.ipynb\" target=\"_parent\"><img src=\"https://colab.research.google.com/assets/colab-badge.svg\" alt=\"Open In Colab\"/></a>"
      ]
    },
    {
      "cell_type": "markdown",
      "id": "2d03d247-e2d3-4afe-ab5e-83dc989ed62d",
      "metadata": {
        "id": "2d03d247-e2d3-4afe-ab5e-83dc989ed62d"
      },
      "source": [
        "# (연습) 값과 변수"
      ]
    },
    {
      "cell_type": "markdown",
      "id": "01c8fab8",
      "metadata": {
        "id": "01c8fab8"
      },
      "source": [
        "**주의 사항**\n",
        "\n",
        "* 기존에 작성된 코드셀/텍스트셀은 수정하지 않는다.\n",
        "* 필요한 경우 코드셀 또는 텍스트셀을 추가할 수 있다.\n",
        "* 실습 파일을 구글 드라이브에서 링크로 누구가 공유할 수 있도록 설정하세요."
      ]
    },
    {
      "cell_type": "markdown",
      "id": "d172688d",
      "metadata": {
        "id": "d172688d"
      },
      "source": [
        "**문제 1**"
      ]
    },
    {
      "cell_type": "markdown",
      "id": "c080a0aa",
      "metadata": {
        "id": "c080a0aa"
      },
      "source": [
        "아래 코드를 실행했을 때 리스트 `[]`의 의미를 설명하라."
      ]
    },
    {
      "cell_type": "code",
      "execution_count": null,
      "id": "932276af",
      "metadata": {
        "id": "932276af",
        "outputId": "4c7cbb60-874b-449c-adda-9486129fe771",
        "colab": {
          "base_uri": "https://localhost:8080/"
        }
      },
      "outputs": [
        {
          "output_type": "stream",
          "name": "stdout",
          "text": [
            "거짓인 경우라서 실행됨!\n"
          ]
        }
      ],
      "source": [
        "if []:\n",
        "    print(\"참인 경우라서 실행됨!\")\n",
        "else:\n",
        "    print(\"거짓인 경우라서 실행됨!\")"
      ]
    },
    {
      "cell_type": "markdown",
      "id": "ef6f3f9b",
      "metadata": {
        "id": "ef6f3f9b"
      },
      "source": [
        "*실행 결과 설명*\n",
        "* 만약 [] 일때 '참인 경우라서 실행됨!' 이 실행이 되고\n",
        "그것이 아닐 경우 다른 것들은 '거짓인 경우라서 실행됨!'이 실행된다\n",
        "[]의 의미는 하나의 조건이며 리스트가 비어있기 때문에 빈 리스트[]은 False로 취급되어 '거짓인 경우라서 실행됨!' 이 실행된다.\n",
        "\n"
      ]
    },
    {
      "cell_type": "markdown",
      "id": "fff0bafd",
      "metadata": {
        "id": "fff0bafd"
      },
      "source": [
        "**문제 2**"
      ]
    },
    {
      "cell_type": "markdown",
      "id": "b651f816",
      "metadata": {
        "id": "b651f816"
      },
      "source": [
        "다음 두 수식이 동일한 값으로 계산되는 이유를 연산자 우선순위 개념을 이용하여 설명하라."
      ]
    },
    {
      "cell_type": "code",
      "execution_count": null,
      "id": "7572fcbf",
      "metadata": {
        "id": "7572fcbf",
        "outputId": "2f6a51bd-17c9-44f1-c3bd-202c320d6bdc",
        "colab": {
          "base_uri": "https://localhost:8080/"
        }
      },
      "outputs": [
        {
          "output_type": "execute_result",
          "data": {
            "text/plain": [
              "1.6"
            ]
          },
          "metadata": {},
          "execution_count": 2
        }
      ],
      "source": [
        "2**3 / (2 + 3)"
      ]
    },
    {
      "cell_type": "code",
      "execution_count": null,
      "id": "fd2d1a2f",
      "metadata": {
        "id": "fd2d1a2f",
        "outputId": "b71ff5f7-03a5-4a98-af65-8a9e31ab45c1",
        "colab": {
          "base_uri": "https://localhost:8080/"
        }
      },
      "outputs": [
        {
          "output_type": "execute_result",
          "data": {
            "text/plain": [
              "1.6"
            ]
          },
          "metadata": {},
          "execution_count": 3
        }
      ],
      "source": [
        "(2**3) / (2 + 3)"
      ]
    },
    {
      "cell_type": "markdown",
      "id": "78fe1d6f",
      "metadata": {
        "id": "78fe1d6f"
      },
      "source": [
        "*실행 결과 설명*\n",
        "* 곱하기와 나누기는 우선순위가 같고, 괄호 안의 값보다 우선순위가 낮다.\n",
        "우선 순위가 같을 땐 왼쪽부터 차례대로 계산을 한다.\n",
        "위 수식은 분모인 괄호 값(2+3)을 계산 한 뒤 곱하기와 나누기의 우선순위가 같으므로 왼쪽부터 차례대로 분자 먼저 계산되는 것이고,\n",
        "아래 수식은 분자, 분모 둘다 괄호 값이기 때문에 우선 순위가 같으므로\n",
        "왼쪽의 분자 (2**3)이 먼저 계산 되고 그 다음 괄호 값 분모 (2+3)을 계산\n",
        "그 뒤에 분자 값과 분모 값을 나누는 것이다.\n",
        "두 수식은 계산되는 순서만 다를 뿐 분모가 6이라는 공통점과 분자에 8이 나오고 나누기가 계산 된다는 점에서 동일한 값이 나오는 것이다.\n"
      ]
    },
    {
      "cell_type": "markdown",
      "id": "7783bf66",
      "metadata": {
        "id": "7783bf66"
      },
      "source": [
        "**문제 3**"
      ]
    },
    {
      "cell_type": "markdown",
      "id": "5fba797e",
      "metadata": {
        "id": "5fba797e"
      },
      "source": [
        "(1) 아래 내용의 논리식을 할당받는 변수 `p1`을 선언한 후에 `p1`에 할당된 진리값을 확인하라.\n",
        "\n",
        "> 5가 7보다 크거나 같은지 여부 판단"
      ]
    },
    {
      "cell_type": "code",
      "execution_count": null,
      "id": "70958989",
      "metadata": {
        "id": "70958989",
        "outputId": "c967e1c2-d1d1-4c54-99ee-6ec65c90a2ce",
        "colab": {
          "base_uri": "https://localhost:8080/"
        }
      },
      "outputs": [
        {
          "output_type": "stream",
          "name": "stdout",
          "text": [
            "False\n"
          ]
        }
      ],
      "source": [
        "p1=5>=7\n",
        "print(p1)"
      ]
    },
    {
      "cell_type": "markdown",
      "id": "3df2ba3f",
      "metadata": {
        "id": "3df2ba3f"
      },
      "source": [
        "(2) 아래 내용의 논리식을 할당받는 변수 `p2`를 선언한 후에 `p2`에 할당된 진리값을 확인하라.\n",
        "\n",
        "> \"Hello\"가 \"hello\" 보다 작은지 여부 판단\n",
        "\n",
        "참고: 두 문자열 사이의 크기비교가 가능하다. 알파벳 순서로 하며 대문자가 소문자보다 작다고 판단된다."
      ]
    },
    {
      "cell_type": "code",
      "execution_count": null,
      "id": "c4f90201",
      "metadata": {
        "id": "c4f90201",
        "outputId": "2f2881e1-ae5e-4d9d-a2dd-e8cbaded113e",
        "colab": {
          "base_uri": "https://localhost:8080/"
        }
      },
      "outputs": [
        {
          "output_type": "stream",
          "name": "stdout",
          "text": [
            "True\n"
          ]
        }
      ],
      "source": [
        "p2=\"Hello\"<\"hello\"\n",
        "print(p2)"
      ]
    },
    {
      "cell_type": "markdown",
      "id": "00a34ae7",
      "metadata": {
        "id": "00a34ae7"
      },
      "source": [
        "**문제 4**"
      ]
    },
    {
      "cell_type": "markdown",
      "id": "4c51581d",
      "metadata": {
        "id": "4c51581d"
      },
      "source": [
        "변수 `x`에 정수 17을 할당했을 때\n",
        "변수 `x`가 가리키는 값이 짝수면 0을,\n",
        "홀수면 1을 출력하는 코드를 `if ... else ...` 조건문을 이용하여 작성하라."
      ]
    },
    {
      "cell_type": "code",
      "execution_count": null,
      "id": "71c9239d",
      "metadata": {
        "id": "71c9239d",
        "outputId": "d3207a4d-78de-437a-b557-b66a58e8e23a",
        "colab": {
          "base_uri": "https://localhost:8080/"
        }
      },
      "outputs": [
        {
          "output_type": "stream",
          "name": "stdout",
          "text": [
            "1\n"
          ]
        }
      ],
      "source": [
        "x=17\n",
        "if x%2!=0:\n",
        "  print(1)\n",
        "else:\n",
        "  print(0)"
      ]
    },
    {
      "cell_type": "markdown",
      "id": "7a6cc55a",
      "metadata": {
        "id": "7a6cc55a"
      },
      "source": [
        "**문제 5**"
      ]
    },
    {
      "cell_type": "markdown",
      "id": "2b27714d",
      "metadata": {
        "id": "2b27714d"
      },
      "source": [
        "변수 `greetings`는 아래 문자열을 가리킨다."
      ]
    },
    {
      "cell_type": "code",
      "execution_count": null,
      "id": "fa154e13",
      "metadata": {
        "id": "fa154e13"
      },
      "outputs": [],
      "source": [
        "greetings = '파이썬, 안녕!'"
      ]
    },
    {
      "cell_type": "markdown",
      "id": "9066bf3e",
      "metadata": {
        "id": "9066bf3e"
      },
      "source": [
        "변수 `char`가 가리키는 문자열이 `greetings`가 가리키는 문자열에  포함되어 있는 경우에는\n",
        "'파이썬 너무 좋아!!!' 문장을 출력하고,\n",
        "아니면 '파이썬을 부탁해^^' 라는 문장을 출력하는 코드를 작성한다."
      ]
    },
    {
      "cell_type": "code",
      "execution_count": null,
      "id": "76f89dc2",
      "metadata": {
        "id": "76f89dc2",
        "outputId": "cd0a3f6d-3561-43f8-cc7e-02d25bf3cf3b",
        "colab": {
          "base_uri": "https://localhost:8080/"
        }
      },
      "outputs": [
        {
          "output_type": "stream",
          "name": "stdout",
          "text": [
            "파이썬 너무 좋아!!!\n"
          ]
        }
      ],
      "source": [
        "char=\"파이썬\"\n",
        "if char in greetings:\n",
        "  print(\"파이썬 너무 좋아!!!\")\n",
        "else:\n",
        "  print(\"파이썬을 부탁해^^\")"
      ]
    },
    {
      "cell_type": "markdown",
      "id": "3012281a",
      "metadata": {
        "id": "3012281a"
      },
      "source": [
        "**문제 6**"
      ]
    },
    {
      "cell_type": "markdown",
      "id": "1ca39f18",
      "metadata": {
        "id": "1ca39f18"
      },
      "source": [
        "변수 `num_list`가 다음과 같이 선언된다."
      ]
    },
    {
      "cell_type": "code",
      "execution_count": null,
      "id": "7f3b877a",
      "metadata": {
        "id": "7f3b877a"
      },
      "outputs": [],
      "source": [
        "num_list = [3, 6, 9, 12, 15, 18, 21]"
      ]
    },
    {
      "cell_type": "markdown",
      "id": "83ee6ceb",
      "metadata": {
        "id": "83ee6ceb"
      },
      "source": [
        "(1) 리스트에 포함된 `9`를 확인하는 인덱싱을 표현하는 수식을 정의하라."
      ]
    },
    {
      "cell_type": "code",
      "execution_count": null,
      "id": "e4806141",
      "metadata": {
        "id": "e4806141",
        "outputId": "e5d485c3-e1e0-4049-fb65-e71c337a5946",
        "colab": {
          "base_uri": "https://localhost:8080/"
        }
      },
      "outputs": [
        {
          "output_type": "stream",
          "name": "stdout",
          "text": [
            "9\n"
          ]
        }
      ],
      "source": [
        "print(num_list[2])"
      ]
    },
    {
      "cell_type": "markdown",
      "id": "abb86c6b",
      "metadata": {
        "id": "abb86c6b"
      },
      "source": [
        "(2) 리스트에 포함된 `18`을 확인하는 인덱싱을 표현하는 수식을 정의하라."
      ]
    },
    {
      "cell_type": "code",
      "execution_count": null,
      "id": "d5c27848",
      "metadata": {
        "id": "d5c27848",
        "outputId": "c80ffa09-a894-4c67-95a6-4534493a2381",
        "colab": {
          "base_uri": "https://localhost:8080/"
        }
      },
      "outputs": [
        {
          "output_type": "stream",
          "name": "stdout",
          "text": [
            "18\n"
          ]
        }
      ],
      "source": [
        "print(num_list[5])"
      ]
    },
    {
      "cell_type": "markdown",
      "id": "ec8b925e",
      "metadata": {
        "id": "ec8b925e"
      },
      "source": [
        "**문제 7**"
      ]
    },
    {
      "cell_type": "markdown",
      "id": "08314815",
      "metadata": {
        "id": "08314815"
      },
      "source": [
        "100만원을 복리로 연이자 5%인 예금에 3년간 은행에 맡겼을 때\n",
        "3년 후에 수령할 금액을 계산하는 코드를 다양한 변수를 활용하여 구현하라.\n",
        "단, 다음 형식으로 출력한다.\n",
        "\n",
        "> 3년 후 받을 원금 + 이자는 OOO 원입니다."
      ]
    },
    {
      "cell_type": "markdown",
      "id": "257201ca",
      "metadata": {
        "id": "257201ca"
      },
      "source": [
        "복리계산은 아래 식을 따른다."
      ]
    },
    {
      "cell_type": "markdown",
      "id": "e1ccfb42",
      "metadata": {
        "id": "e1ccfb42"
      },
      "source": [
        "> 원리합계 ＝ 원금 * (1 ＋ 연금리/일년에 이자받는횟수) ** (일년에 이자받는횟수 * 기간)"
      ]
    },
    {
      "cell_type": "markdown",
      "id": "2c678a1e",
      "metadata": {
        "id": "2c678a1e"
      },
      "source": [
        "복리 개념과 계산법에 대해서는 아래 링크를 참고한다.\n",
        "\n",
        "- [복리 개념과 계산법](https://a2-finance.com/ko/calculators/%EB%AA%A8%EB%93%A0-%EA%B3%84%EC%82%B0%EA%B8%B0/%EB%B3%B5%EB%A6%AC-%EA%B3%84%EC%82%B0%EA%B8%B0)"
      ]
    },
    {
      "cell_type": "markdown",
      "id": "3116b83f",
      "metadata": {
        "id": "3116b83f"
      },
      "source": [
        "아래 변수를 활용한다.\n",
        "\n",
        "- principal = 원금\n",
        "- rate = 연이자율\n",
        "- period = 저축기간(년)\n",
        "- savings = 원리합계"
      ]
    },
    {
      "cell_type": "code",
      "execution_count": null,
      "id": "5d6f2a97",
      "metadata": {
        "id": "5d6f2a97",
        "outputId": "b216b215-01c6-45c1-e24b-33cc9664d9a8",
        "colab": {
          "base_uri": "https://localhost:8080/"
        }
      },
      "outputs": [
        {
          "output_type": "stream",
          "name": "stdout",
          "text": [
            "3년 후 받을 원금 + 이자는 1157625.0000000002 원입니다.\n"
          ]
        }
      ],
      "source": [
        "principal=1000000\n",
        "rate=0.05\n",
        "period=3\n",
        "savings=principal*(1+rate)**(period)\n",
        "print(\"3년 후 받을 원금 + 이자는\",savings,\"원입니다.\")"
      ]
    }
  ],
  "metadata": {
    "kernelspec": {
      "display_name": "Python 3 (ipykernel)",
      "language": "python",
      "name": "python3"
    },
    "language_info": {
      "codemirror_mode": {
        "name": "ipython",
        "version": 3
      },
      "file_extension": ".py",
      "mimetype": "text/x-python",
      "name": "python",
      "nbconvert_exporter": "python",
      "pygments_lexer": "ipython3",
      "version": "3.12.2"
    },
    "toc-autonumbering": true,
    "toc-showcode": false,
    "toc-showmarkdowntxt": false,
    "colab": {
      "provenance": [],
      "include_colab_link": true
    }
  },
  "nbformat": 4,
  "nbformat_minor": 5
}