{
  "cells": [
    {
      "cell_type": "markdown",
      "metadata": {
        "id": "view-in-github",
        "colab_type": "text"
      },
      "source": [
        "<a href=\"https://colab.research.google.com/github/Unlucky-MARO/hknu/blob/main/hknu_8_%EC%A0%95%EA%B7%9C%ED%91%9C%ED%98%84%EC%8B%9D.ipynb\" target=\"_parent\"><img src=\"https://colab.research.google.com/assets/colab-badge.svg\" alt=\"Open In Colab\"/></a>"
      ]
    },
    {
      "cell_type": "markdown",
      "metadata": {
        "id": "SwMhzcUQ2quW"
      },
      "source": [
        "# (연습) 정규표현식"
      ]
    },
    {
      "cell_type": "markdown",
      "metadata": {
        "id": "MgBCG_zE0A9f"
      },
      "source": [
        "**주의 사항**\n",
        "\n",
        "* 기존에 작성된 코드 셀과 텍스트 셀은 수정하지 않는다.\n",
        "* 필요한 경우 코드 셀 또는 텍스트 셀을 추가해서 사용한다."
      ]
    },
    {
      "cell_type": "code",
      "execution_count": null,
      "metadata": {
        "id": "RmmNcW3J2quY"
      },
      "outputs": [],
      "source": [
        "import re"
      ]
    },
    {
      "cell_type": "markdown",
      "metadata": {
        "id": "GrVOp0-q2quZ"
      },
      "source": [
        "**문제 1**"
      ]
    },
    {
      "cell_type": "markdown",
      "metadata": {
        "id": "xO1dlocZ2qua"
      },
      "source": [
        "임의의 숫자 기호로 구성된 문자열도 정규표현식이다.\n",
        "아래 세 개의 문자열에 공통으로 포함됨 부분문자열 `123`과 매칭되는 정규표현식으로 지정하라."
      ]
    },
    {
      "cell_type": "markdown",
      "metadata": {
        "id": "OmGX_BDl2qua"
      },
      "source": [
        "| 매칭 | 문자열 |\n",
        "| :---: | :--- |\n",
        "| 성사 | `abc123xyz` |\n",
        "| 성사 | `deine \"123\"` |\n",
        "| 성사 | `var g = 123;` |"
      ]
    },
    {
      "cell_type": "code",
      "execution_count": null,
      "metadata": {
        "id": "kInYZi042qub",
        "outputId": "a2cd6582-edd0-4eef-9b9a-fbbd7c21788b",
        "colab": {
          "base_uri": "https://localhost:8080/"
        }
      },
      "outputs": [
        {
          "output_type": "stream",
          "name": "stdout",
          "text": [
            "성사: abc123xyz\n",
            "성사: deine \"123\"\n",
            "성사: var g = 123;\n"
          ]
        }
      ],
      "source": [
        "x = re.compile(r\"123\")\n",
        "\n",
        "matching = [\n",
        "    \"abc123xyz\",\n",
        "    \"deine \\\"123\\\"\",\n",
        "    \"var g = 123;\"\n",
        "]\n",
        "for i in matching:\n",
        "    if x.search(i):\n",
        "      print(\"성사:\",i)\n",
        "    else:\n",
        "      print(\"미성사:\",i)"
      ]
    },
    {
      "cell_type": "markdown",
      "metadata": {
        "id": "bD7Q3u_62quc"
      },
      "source": [
        "**문제 2**"
      ]
    },
    {
      "cell_type": "markdown",
      "metadata": {
        "id": "EF_tlMaY2quc"
      },
      "source": [
        "아래 표에 포함된 각각의 문자열에 대해 성사로 표시된 문자열 전체를 매칭 시키는 하나의 정규표현식을\n",
        "선언한 다음에 이를 확인하라.\n",
        "단, 미성사로 표시된 문자열에 대해서는 매칭이 없어야 한다.\n",
        "\n",
        "힌트: 특정 문자만 포함하거나 아니면 특정 문자는 제외시킬 수 있다."
      ]
    },
    {
      "cell_type": "markdown",
      "metadata": {
        "id": "-BO0WCcu2qud"
      },
      "source": [
        "| 매칭 | 문자열 |\n",
        "| :---: | :--- |\n",
        "| 성사 | `can` |\n",
        "| 성사 | `man` |\n",
        "| 성사 | `fan` |\n",
        "| 미성사 | `dan` |\n",
        "| 미성사 | `ran` |\n",
        "| 미성사 | `pan` |"
      ]
    },
    {
      "cell_type": "code",
      "execution_count": null,
      "metadata": {
        "id": "U22npeN62qud",
        "outputId": "8dbc9cca-5bc7-43e7-d230-65e024a55288",
        "colab": {
          "base_uri": "https://localhost:8080/"
        }
      },
      "outputs": [
        {
          "output_type": "stream",
          "name": "stdout",
          "text": [
            "성사: can\n",
            "성사: man\n",
            "성사: fan\n",
            "미성사: dan\n",
            "미성사: ran\n",
            "미성사: pan\n"
          ]
        }
      ],
      "source": [
        "x = re.compile(r\"[cmf]an\")\n",
        "\n",
        "matching = [\n",
        "    \"can\",\n",
        "    \"man\",\n",
        "    \"fan\",\n",
        "    \"dan\",\n",
        "    \"ran\",\n",
        "    \"pan\"\n",
        "]\n",
        "for i in matching:\n",
        "    if x.search(i):\n",
        "      print(\"성사:\",i)\n",
        "    else:\n",
        "      print(\"미성사:\",i)"
      ]
    },
    {
      "cell_type": "markdown",
      "metadata": {
        "id": "kuiDY5ek2qud"
      },
      "source": [
        "**문제 3**"
      ]
    },
    {
      "cell_type": "markdown",
      "metadata": {
        "id": "VXKf3Da52que"
      },
      "source": [
        "아래 표에 포함된 각각의 문자열에 대해 성사로 표시된 문자열 전체를 매칭 시키는 하나의 정규표현식을\n",
        "선언한 다음에 이를 확인하라.\n",
        "단, 미성사로 표시된 문자열에 대해서는 매칭이 없어야 한다.\n",
        "\n",
        "힌트: 특정 문자 또는 문자열의 반복횟수를 지정하거나 한 번 또는 0번 이상의 반복을 지정할 수 있다."
      ]
    },
    {
      "cell_type": "markdown",
      "metadata": {
        "id": "FM3Cf8Aa2que"
      },
      "source": [
        "| 매칭 | 문자열 |\n",
        "| :---: | :--- |\n",
        "| 성사 | `waazzzup` |\n",
        "| 성사 | `waaazzzup` |\n",
        "| 미성사 | `wazzzzzup` |\n",
        "| 미성사 | `wazup` |"
      ]
    },
    {
      "cell_type": "code",
      "execution_count": null,
      "metadata": {
        "id": "Vbtx4n9S2que",
        "outputId": "e005eda1-3062-4416-f28a-99cdb10a8575",
        "colab": {
          "base_uri": "https://localhost:8080/"
        }
      },
      "outputs": [
        {
          "output_type": "stream",
          "name": "stdout",
          "text": [
            "성사: waazzzup\n",
            "성사: waaazzzup\n",
            "미성사: wazzzzzup\n",
            "미성사: wazup\n"
          ]
        }
      ],
      "source": [
        "x = re.compile(r\"waa+z+up\")\n",
        "\n",
        "matching = [\n",
        "    \"waazzzup\",\n",
        "    \"waaazzzup\",\n",
        "    \"wazzzzzup\",\n",
        "    \"wazup\"\n",
        "]\n",
        "for i in matching:\n",
        "    if x.search(i):\n",
        "      print(\"성사:\",i)\n",
        "    else:\n",
        "      print(\"미성사:\",i)"
      ]
    },
    {
      "cell_type": "markdown",
      "metadata": {
        "id": "Qp5fuCiC2quf"
      },
      "source": [
        "**문제 4**"
      ]
    },
    {
      "cell_type": "markdown",
      "metadata": {
        "id": "KYHT61hF2quf"
      },
      "source": [
        "아래 표에 포함된 각각의 문자열에 대해 성사로 표시된 문자열 전체를 매칭 시키는 하나의 정규표현식을\n",
        "선언한 다음에 이를 확인하라.\n",
        "단, 미성사로 표시된 문자열에 대해서는 매칭이 없어야 한다.\n",
        "\n",
        "힌트: `\\s`는 모든 화이트 스페이스 문자를 가리킨다.\n",
        "반면에 `\\S`는 화이트 스페이스를 제외한 임의의 문자를 가리킨다."
      ]
    },
    {
      "cell_type": "markdown",
      "metadata": {
        "id": "6-w2ZDcV2quf"
      },
      "source": [
        "| 매칭 | 문자열 |\n",
        "| :---: | :--- |\n",
        "| 성사 | `1. abc` |\n",
        "| 성사 | `2.  abc` |\n",
        "| 성사 | `3.   abc` |\n",
        "| 미성사 | `4.abc` |"
      ]
    },
    {
      "cell_type": "code",
      "execution_count": null,
      "metadata": {
        "id": "G3KyaK2u2quf",
        "outputId": "6acacff0-eec6-4ad1-e15a-697efd3827ba",
        "colab": {
          "base_uri": "https://localhost:8080/"
        }
      },
      "outputs": [
        {
          "output_type": "stream",
          "name": "stdout",
          "text": [
            "성사: 1. abc\n",
            "성사: 2. abc\n",
            "성사: 3. abc\n",
            "미성사: 4.abc\n"
          ]
        }
      ],
      "source": [
        "x = re.compile(r\"\\d\\.\\s+abc\")\n",
        "\n",
        "matching = [\n",
        "    \"1. abc\",\n",
        "    \"2. abc\",\n",
        "    \"3. abc\",\n",
        "    \"4.abc\"\n",
        "]\n",
        "for i in matching:\n",
        "    if x.search(i):\n",
        "      print(\"성사:\",i)\n",
        "    else:\n",
        "      print(\"미성사:\",i)"
      ]
    },
    {
      "cell_type": "markdown",
      "metadata": {
        "id": "zSwWtmji2qug"
      },
      "source": [
        "**문제 5**"
      ]
    },
    {
      "cell_type": "markdown",
      "metadata": {
        "id": "sBBR9UxP2qug"
      },
      "source": [
        "아래 표에 포함된 각각의 문자열에 대해 성사로 표시된 문자열 전체를 매칭 시키는 하나의 정규표현식을\n",
        "선언한 다음에 이를 확인하라.\n",
        "단, 미성사로 표시된 문자열에 대해서는 매칭이 없어야 한다.\n",
        "\n",
        "힌트: 부분문자열을 캡처한 뒤에 재활용할 수 있는 기능도 지원한다.\n",
        "캡처하고자 하는 부분문자열의 패턴을 소괄호로 감싸인 정규표현식으로 지정한다."
      ]
    },
    {
      "cell_type": "markdown",
      "metadata": {
        "id": "0Zis6EhM2qug"
      },
      "source": [
        "| 그룹 지정 | 문자열 | 그룹 |\n",
        "| :---: | :--- | :--- |\n",
        "| 성사 | `file_record_transcript.pdf` | `file_record_transcript` |\n",
        "| 성사 | `file_07241999.pdf` | `file_07241999` |\n",
        "| 미성사 | `testfile_fake.pdf.tmp` | |"
      ]
    },
    {
      "cell_type": "code",
      "execution_count": null,
      "metadata": {
        "id": "OeLelz8B2qug",
        "outputId": "56bf8920-e546-4ec5-f206-fbde33a4e3cf",
        "colab": {
          "base_uri": "https://localhost:8080/"
        }
      },
      "outputs": [
        {
          "output_type": "stream",
          "name": "stdout",
          "text": [
            "성사: file_record_transcript.pdf\n",
            "성사: file_07241999.pdf\n",
            "미성사: testfile_fake.pdf.tmp\n"
          ]
        }
      ],
      "source": [
        "x = re.compile(r\"^(file.+)\\.pdf\")\n",
        "\n",
        "matching = [\n",
        "    \"file_record_transcript.pdf\",\n",
        "    \"file_07241999.pdf\",\n",
        "    \"testfile_fake.pdf.tmp\"\n",
        "]\n",
        "for i in matching:\n",
        "    if x.search(i):\n",
        "      print(\"성사:\",i)\n",
        "    else:\n",
        "      print(\"미성사:\",i)"
      ]
    },
    {
      "cell_type": "markdown",
      "metadata": {
        "id": "Z0iEZkc-2qug"
      },
      "source": [
        "**문제 6**"
      ]
    },
    {
      "cell_type": "markdown",
      "metadata": {
        "id": "OiGmxlKZ2qug"
      },
      "source": [
        "아래 표에 포함된 각각의 문자열에 대해 성사로 표시된 문자열 전체를 매칭 시키는 하나의 정규표현식을\n",
        "선언한 다음에 이를 확인하라.\n",
        "단, 미성사로 표시된 문자열에 대해서는 매칭이 없어야 한다.\n",
        "\n",
        "힌트: 소괄호와 파이프 기호 `|`를 함께 사용하면 여러 개의 문자열중에 하나와 매칭되는 문자열을 캡처한다."
      ]
    },
    {
      "cell_type": "markdown",
      "metadata": {
        "id": "JDk_YT-42qug"
      },
      "source": [
        "| 매칭 | 문자열 |\n",
        "| :---: | :--- |\n",
        "| 성사 | `tomato: 1` |\n",
        "| 성사 | `potatos: 2` |"
      ]
    },
    {
      "cell_type": "code",
      "execution_count": null,
      "metadata": {
        "id": "kMVpLGAO2quh",
        "outputId": "0a4f478b-0ceb-4dc7-e29a-f49614e20a1a",
        "colab": {
          "base_uri": "https://localhost:8080/"
        }
      },
      "outputs": [
        {
          "output_type": "stream",
          "name": "stdout",
          "text": [
            "성사: tomato: 1\n",
            "성사: potatos: 2\n"
          ]
        }
      ],
      "source": [
        "x = re.compile(r\"(tom|pot)atos?: \\d$\")\n",
        "\n",
        "matching = [\n",
        "    \"tomato: 1\",\n",
        "    \"potatos: 2\",\n",
        "]\n",
        "for i in matching:\n",
        "    if x.search(i):\n",
        "      print(\"성사:\",i)\n",
        "    else:\n",
        "      print(\"미성사:\",i)"
      ]
    },
    {
      "cell_type": "markdown",
      "metadata": {
        "id": "Cu3bcloc2quh"
      },
      "source": [
        "**문제 7**"
      ]
    },
    {
      "cell_type": "markdown",
      "metadata": {
        "id": "0w_me3P22quh"
      },
      "source": [
        "전화번호 끝 네자리를 별표로 처리하는 코드를 작성하라.\n",
        "단 정규표현식을 컴파일한 패턴과 패턴의 `sub()` 메서드만 이용한다."
      ]
    },
    {
      "cell_type": "code",
      "execution_count": null,
      "metadata": {
        "id": "id4P-ug12quh"
      },
      "outputs": [],
      "source": [
        "phone_numbers = \"\"\"\n",
        "010-8009-9118\n",
        "031-700-1919\n",
        "02-769-9877\n",
        "\"\"\""
      ]
    },
    {
      "cell_type": "code",
      "execution_count": null,
      "metadata": {
        "id": "jTWY0-8w2quh",
        "outputId": "0b58241e-5e50-4230-c219-df7de49d8197",
        "colab": {
          "base_uri": "https://localhost:8080/",
          "height": 35
        }
      },
      "outputs": [
        {
          "output_type": "execute_result",
          "data": {
            "text/plain": [
              "'\\n010-8009-****\\n031-700-****\\n02-769-****\\n'"
            ],
            "application/vnd.google.colaboratory.intrinsic+json": {
              "type": "string"
            }
          },
          "metadata": {},
          "execution_count": 44
        }
      ],
      "source": [
        "re.sub(r\"(\\d+)-(\\d+)-\\d+\",r\"\\g<1>-\\g<2>-****\",phone_numbers)"
      ]
    },
    {
      "cell_type": "markdown",
      "metadata": {
        "id": "d90N_KIh2qui"
      },
      "source": [
        "**문제 8**"
      ]
    },
    {
      "cell_type": "markdown",
      "metadata": {
        "id": "Gpg2OeaL2qui"
      },
      "source": [
        "아래 표에 포함된 각각의 문자열에 대해 성사로 표시된 문자열 전체를 매칭 시키는 하나의 정규표현식을\n",
        "선언한 다음에 이를 확인하라.\n",
        "단, 미성사로 표시된 문자열에 대해서는 매칭이 없어야 한다."
      ]
    },
    {
      "cell_type": "markdown",
      "metadata": {
        "id": "ahl6kqTr2qui"
      },
      "source": [
        "| 매칭 | 문자열 |\n",
        "| :---: | :--- |\n",
        "| 성사 | `3.14529` |\n",
        "| 성사 | `-255.34` |\n",
        "| 성사 | `128` |\n",
        "| 성사 | `1.9e10` |\n",
        "| 성사 | `123,340.00` |\n",
        "| 미성사 | `720p` |"
      ]
    },
    {
      "cell_type": "code",
      "execution_count": null,
      "metadata": {
        "id": "6ajPiVsO2quj",
        "outputId": "211ce650-fd84-4b84-9690-bf03e82f2cba",
        "colab": {
          "base_uri": "https://localhost:8080/"
        }
      },
      "outputs": [
        {
          "output_type": "stream",
          "name": "stdout",
          "text": [
            "성사: 3.14529\n",
            "성사: -255.34\n",
            "성사: 128\n",
            "성사: 1.9e10\n",
            "성사: 123,340.00\n",
            "미성사: 720p\n"
          ]
        }
      ],
      "source": [
        "x = re.compile(r\"^-?\\d+(,\\d+)*(\\.\\d+(e\\d+)?)?$\")\n",
        "\n",
        "matching = [\n",
        "    \"3.14529\",\n",
        "    \"-255.34\",\n",
        "    \"128\",\n",
        "    \"1.9e10\",\n",
        "    \"123,340.00\",\n",
        "    \"720p\"\n",
        "]\n",
        "for i in matching:\n",
        "    if x.search(i):\n",
        "      print(\"성사:\",i)\n",
        "    else:\n",
        "      print(\"미성사:\",i)"
      ]
    },
    {
      "cell_type": "markdown",
      "metadata": {
        "id": "EUnkqu-G2quj"
      },
      "source": [
        "**문제 9**"
      ]
    },
    {
      "cell_type": "markdown",
      "metadata": {
        "id": "WUyjRL2H2quj"
      },
      "source": [
        "아래 표에 포함된 각각의 문자열에 대해 성사로 표시된 문자열 전체를 매칭 시키는 하나의 정규표현식을\n",
        "선언한 다음에 이를 확인하라.\n",
        "단, 이메일 주소의 아이디는 캡처되어야 한다.\n",
        "또한 정규표현식을 컴파일한 패턴을 이용한다."
      ]
    },
    {
      "cell_type": "markdown",
      "metadata": {
        "id": "b_gH15cD2quj"
      },
      "source": [
        "| 그룹 지정 | 문자열 | 그룹 |\n",
        "| :---: | :--- | :--- |\n",
        "| 성사 | `tom@hogwarts.com` | `tom` |\n",
        "| 성사 | `tom.riddle@hogwarts.com` | `tom.riddle` |\n",
        "| 성사 | `tom.riddle+regexone@hogwarts.com` | `tom.riddle` |"
      ]
    },
    {
      "cell_type": "code",
      "execution_count": null,
      "metadata": {
        "id": "ZTQ9MbUM2quj"
      },
      "outputs": [],
      "source": [
        "x = re.compile(r\"(tom|pot)atos?: \\d$\")\n",
        "\n",
        "matching = [\n",
        "    \"tom@hogwarts.com\",\n",
        "    \"tom.riddle@hogwarts.com\",\n",
        "    \"tom.riddle+regexone@hogwarts.com\"\n",
        "]\n",
        "for i in matching:\n",
        "    if x.search(i):\n",
        "      print(\"성사:\",i)\n",
        "    else:\n",
        "      print(\"미성사:\",i)"
      ]
    },
    {
      "cell_type": "markdown",
      "metadata": {
        "id": "n3cykwdL2qup"
      },
      "source": [
        "**문제 10**"
      ]
    },
    {
      "cell_type": "markdown",
      "metadata": {
        "id": "AgiVqERZ2qup"
      },
      "source": [
        "아래 표에 포함된 각각의 문자열에 대해 HTML 태그로 감싸진 부분문자열을 캡처하는 정규표현식을\n",
        "선언한 다음에 이를 확인하라.\n",
        "또한 정규표현식을 컴파일한 패턴을 이용한다."
      ]
    },
    {
      "cell_type": "markdown",
      "metadata": {
        "id": "JptE7SVd2qup"
      },
      "source": [
        "| 그룹 지정 | 문자열 | 그룹 |\n",
        "| :---: | :--- | :--- |\n",
        "| 성사 | `<a>This is a link</a>` | `This is a link` |\n",
        "| 성사 | `<a href='https://regexone.com'>Link</a>` | `Link` |\n",
        "| 성사 | `<div class='test_style'>Test</div>` | `Test` |\n",
        "| 성사 | `<div>Hello <span>world</span></div>` | `Hello` |"
      ]
    },
    {
      "cell_type": "code",
      "execution_count": null,
      "metadata": {
        "id": "k7phM6hk2quq"
      },
      "outputs": [],
      "source": [
        "# 코드를 작성한다.\n",
        "# 필요하면 코드셀 또는 텍스트셀을 추가할 수 있습니다.\n"
      ]
    },
    {
      "cell_type": "markdown",
      "metadata": {
        "id": "N1pvJBU32quq"
      },
      "source": [
        "**문제 11**"
      ]
    },
    {
      "cell_type": "markdown",
      "metadata": {
        "id": "2n5G5C0e2quq"
      },
      "source": [
        "아래 표에 포함된 파일명 중에서 jpg, png, gif 등의 확장자를 가진 사진 파일명을 매칭하면서\n",
        "파일명과 확장자를 캡처하는 정규표현식을 선언한 다음에 이를 확인하라.\n",
        "또한 정규표현식을 컴파일한 패턴을 이용한다."
      ]
    },
    {
      "cell_type": "markdown",
      "metadata": {
        "id": "QuIFYpkH2quq"
      },
      "source": [
        "| 그룹 지정 | 문자열 | 그룹 |\n",
        "| :---: | :--- | :--- |\n",
        "| 미성사 | `.bash_profile` | |\n",
        "| 미성사 | `workspace.doc` | |\n",
        "| 성사 | `imatch0912.jpg` | `imatch0912` `jpg` |\n",
        "| 성사 | `updated_imatch0912.png` | `updated_imatch0912` `png` |\n",
        "| 성사 | `favicon.gif` | `favicon` `gif` |\n",
        "| 미성사 | `imatch0912.jpg.tmp` | |"
      ]
    },
    {
      "cell_type": "code",
      "execution_count": null,
      "metadata": {
        "id": "QpNdAdll2quq"
      },
      "outputs": [],
      "source": [
        "# 코드를 작성한다.\n",
        "# 필요하면 코드셀 또는 텍스트셀을 추가할 수 있습니다.\n"
      ]
    },
    {
      "cell_type": "markdown",
      "metadata": {
        "id": "tUsjPO1w2quq"
      },
      "source": [
        "**문제 12**"
      ]
    },
    {
      "cell_type": "markdown",
      "metadata": {
        "id": "zZwQDV4c2quq"
      },
      "source": [
        "아래 표에 인터넷 또는 파일 주소를 가리키는 문자열에 대해 그룹으로 지정된 두 개의 부분문자여을 캠처하는\n",
        "정규표현식을 선언한 다음에 이를 확인하라.\n",
        "또한 정규표현식을 컴파일한 패턴을 이용한다."
      ]
    },
    {
      "cell_type": "markdown",
      "metadata": {
        "id": "6RmAnBCH2qur"
      },
      "source": [
        "| 그룹 지정 | 문자열 | 그룹 |\n",
        "| :---: | :--- | :--- |\n",
        "| 성사 | `https://regexone.com/lesson/` | `https` `regexone.com` |\n",
        "| 성사 | `file://localhost:4040/zip_file` | `file` `localhost` `4040` |"
      ]
    },
    {
      "cell_type": "code",
      "execution_count": null,
      "metadata": {
        "id": "-s0-J8Rp2qur"
      },
      "outputs": [],
      "source": [
        "# 코드를 작성한다.\n",
        "# 필요하면 코드셀 또는 텍스트셀을 추가할 수 있습니다.\n"
      ]
    }
  ],
  "metadata": {
    "colab": {
      "provenance": [],
      "include_colab_link": true
    },
    "kernelspec": {
      "display_name": "Python 3 (ipykernel)",
      "language": "python",
      "name": "python3"
    },
    "language_info": {
      "codemirror_mode": {
        "name": "ipython",
        "version": 3
      },
      "file_extension": ".py",
      "mimetype": "text/x-python",
      "name": "python",
      "nbconvert_exporter": "python",
      "pygments_lexer": "ipython3",
      "version": "3.12.7"
    }
  },
  "nbformat": 4,
  "nbformat_minor": 0
}